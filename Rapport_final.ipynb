{
 "cells": [
  {
   "cell_type": "markdown",
   "metadata": {},
   "source": [
    "# Projet  de Machine Learning en Python - Stratégie de Trading, NLP et Twitter\n",
    "\n",
    "## Date : 06/02/2021\n",
    "*Groupe : Léo PIACENTINO, Olivier NGO, Hugo MOREL*\n",
    "\n",
    "*** \n",
    "\n",
    "## `Sujet :`\n",
    "Étant tous les trois intéressés par le monde de la finance, nous voulions réaliser un projet de Machine Learning appliqué à ce domaine. Nous avons donc choisi de traiter un sujet de finance de marché se servant du **Natural Language Processing** comme projet. Ainsi, nous avons décidé d'essayer de créer une stratégie de trading profitable sur le Bitcoin en se servant du \"Sentiment Analysis\". Après mûre réflexion, se focaliser sur l'impact de **Twitter** sur le **cours du Bitcoin** semblait être le sujet le plus pertinent. En effet, nous supposons qu'il existe un lien entre la source d'information (tant officielle que parallèle) qu'est Twitter et le cours du Bitcoin. \n",
    "\n",
    "**Problématique : Est-il possible et viable d'analyser et d'interpréter des informations textuelles liées au Bitcoin, dans le but d'en déduire une position d'investissement à court/moyen-terme ?**\n",
    "\n",
    "Pour répondre à notre problématique, nous nous sommes concentrés sur une analyse du **Bitcoin** par l'intermédiaire de deux sources d'information :\n",
    "\n",
    "* son prix du 17-08-2017 jusqu'à aujourd'hui 02-02-2021\n",
    "* la publication d'informations relatives au Bitcoin (Tweeter)\n",
    "\n",
    "\n",
    "Les prix ont été récoltés avec **l'API Binance**, les informations relatives au Bitcoin ont été obtenues depuis les Tweets de personnes et entreprises considérées comme influentes dans le milieu de la cryptomonnaie avec **l'API Twitter**. Les personnes en question sont par exemple le créateur de l'Ethereum, des \"crypto-trader\" suivis par centaines de milliers ou encore les créateurs des \"exchanges\" et \"brokers\". \n",
    "\n",
    "*** \n",
    "\n",
    "## `Plan du projet :`\n",
    "\n",
    "#### 1) Création des bases de données\n",
    "* Récupération des Tweets avec **l'API Twitter**\n",
    "* Récupération du prix du Bitcoin avec **l'API Binance**\n",
    "\n",
    "#### 2) Data-Cleaning des données\n",
    "\n",
    "* Retraitement des Tweets\n",
    "* Retraitement des prix\n",
    "* Fusion des bases de données\n",
    "\n",
    "#### 3) Data-Visualiation\n",
    "\n",
    "#### 4) NLP BERT & Hugging Face\n",
    "\n",
    "#### 5) Backtest\n",
    "\n",
    "#### 6) Conclusion \n",
    "\n",
    "*** "
   ]
  },
  {
   "cell_type": "code",
   "execution_count": 1,
   "metadata": {},
   "outputs": [],
   "source": [
    "from datetime import datetime\n",
    "import pandas as pd"
   ]
  },
  {
   "cell_type": "markdown",
   "metadata": {},
   "source": [
    "## 1) Création des bases de données"
   ]
  },
  {
   "cell_type": "markdown",
   "metadata": {},
   "source": [
    "### A) Récupération des Tweets avec **l'API de Twitter**"
   ]
  },
  {
   "cell_type": "markdown",
   "metadata": {},
   "source": [
    "Afin de créer une base de données cohérente, nous avons selectionnés 47 comptes Twitter de personnes et entreprises influentes dans le domaine des cryptomonnaies :\n",
    "\n",
    "\n",
    "    - @Binance            - @Reuters             - @Officialmcafee        - @loomdart\n",
    "    - @Coinbase           - @CNBC                - @VitalikButerin        - @Sicarious_\n",
    "    - @Bitstamp           - @BespokeCrypto       - @pmarca                - @Cryptopathic\n",
    "    - @MarketWatch        - @APompliano          - @rogerkver             - @CryptoHayes\n",
    "    - @business           - @NickSzabo4          - @ToneVays              - @JihanWu\n",
    "    - @YahooFinance       - @nic__carter         - @CharlieShrem          - @starkness\n",
    "    - @TechCrunch         - @CarpeNoctom         - @naval                 - @brian_armstrong\n",
    "    - @WSJ                - @Melt_Dem            - @tayvano_              - @BarrySilbert\n",
    "    - @Forbes             - @100TrillionUSD      - @FEhrsam               - @jack\n",
    "    - @FT                 - @MessariCrypto       - @ErikVoorhees          - @CryptoDonAlt\n",
    "    - @TheEconomist       - @MartyBent           - @CryptoCobain          - @CryptoCred\n",
    "    - @nytimes            - @aantonop            - @ThisIsNuse\n",
    "\n",
    "\n",
    "De plus nous avons choisi de croiser les comptes ci-dessus avec une recherche par mots clés **[\"Bitcoin\", \"BTC\"]**,\n",
    "**dans le but d'obtenir des informations portant uniquement sur le Bitcoin.**\n",
    "\n",
    "Pour commencer, précisons l'hypothèse derrière ce choix de comptes qui est un filtre sur l'information du Bitcoin. Nous remarquons qu'il est possible d'appréhender le sujet de deux façons différentes. Premièrement, d'aucuns pourraient vouloir récolter toute l'information disponible sous le **#Bitcoin**. Cette première approche implique une grande quantité de données mais de mauvaise qualité. En effet, le sujet du Bitcoin est presque devenu un sujet populaire où nombre de boursicoteurs spéculent sur son cours. Sous cette condition, les tweets sont généralement mal orthographiés, mal exprimés, pas assez concis et peu informatifs lorsqu'ils sont pris un à un (en revanche, il existe certainement un intérêt à aggréger par fênetres de temps le sentiment général, celui de la doxa). L'information récupérée à travers cette approche aurait permis d'analyser la fréquence et le volume des tweets tout en essayant d'aggréger un \"Sentiment Analysis\". Une seconde approche, qui est la nôtre, est de ne se focaliser que sur les utilisateurs clés, ayant un impact reconnu et notable sur le monde des cryptomonnaies et donc du Bitcoin. En effet, la plus part des investisseurs individuels spéculant sur le Bitcoin suivent avec grande attention les messages et conseils prodigués par ces \"influenceurs financiers\". Ils prennent leurs décisions d'investissement suite à certains de ces Tweets clés. Notre réflexion a donc été de prendre l'information à sa racine, au niveau des décideurs de tendances suivi par les investisseurs individuels et donc de dégager des signaux forts d'achat ou de vente. Ainsi, notre objectif est donc d'anticiper le mouvement de toute la communauté sur le cours en se focalisant sur les personnes qui guident cette communauté. "
   ]
  },
  {
   "cell_type": "markdown",
   "metadata": {},
   "source": [
    "#### Classe qui récupère les Tweets depuis l'API Twitter"
   ]
  },
  {
   "cell_type": "code",
   "execution_count": 2,
   "metadata": {},
   "outputs": [],
   "source": [
    "from dataclasses import dataclass\n",
    "from typing import List, Tuple\n",
    "from tweepy import API # Bibliothèque de l'API Tweeter\n",
    "import tweepy as tw \n",
    "import pandas as pd\n",
    "from tqdm import tqdm\n",
    "import re\n",
    "\n",
    "@dataclass\n",
    "class OAuthClient: \n",
    "    consumer_key: str = None\n",
    "    consumer_secret: str = None\n",
    "    access_token: str = None\n",
    "    access_token_secret: str = None\n",
    "    # check des paramètres pour qu'aucun ne soit None\n",
    "    def __post_init__(self):\n",
    "        if len(list(filter(lambda x: x is None or len(x) == 0, self.__dict__.values()))) > 0:\n",
    "            raise RuntimeError(\"Missing parameters NoneType or Empty string\") # gestion des exceptions\n",
    "\n",
    "# utiliser pour filtrer la requête via l'API Twitter\n",
    "@dataclass(frozen=True)\n",
    "class Pagination:\n",
    "    user_name: str\n",
    "    hashtag: List[str]\n",
    "\n",
    "    @classmethod\n",
    "    def from_data(cls,\n",
    "                  user_name: str,\n",
    "                  hashtags: List[str]):\n",
    "\n",
    "        if user_name and hashtags and len(user_name) > 0 and len(hashtags):\n",
    "            return cls(*cls._format(user_name=user_name,\n",
    "                                    hashtags=hashtags)\n",
    "                       )\n",
    "        else:\n",
    "            raise RuntimeError(\"user_name is needed as hashtag to create pagination\")\n",
    "\n",
    "    @staticmethod\n",
    "    def _format(user_name: str,\n",
    "                hashtags: List[str]):\n",
    "\n",
    "        return [\"@\" + user_name, list(str(\"#\" + hashtag).upper() for hashtag in hashtags)]\n",
    "\n",
    "# retourne la liste des paginations\n",
    "class PaginationInitiator(Pagination):\n",
    "\n",
    "    def __new__(cls,\n",
    "                user_names: List[str],\n",
    "                hashtags: List[str]\n",
    "                ) -> List[Pagination]:\n",
    "        \"\"\"\n",
    "\n",
    "        :param user_names:\n",
    "        :param hashtags:\n",
    "        :return list of pagination elements for Cursor Generation\n",
    "\n",
    "        \"\"\"\n",
    "\n",
    "        return list(map(lambda x: Pagination.from_data(x, hashtags), user_names))\n",
    "\n",
    "\n",
    "class CursorCallable(object):\n",
    "    def __init__(self, cursor: tw.Cursor, pagination: Pagination):\n",
    "        self._cursor = cursor\n",
    "        self._pagination = pagination\n",
    "        \n",
    "    #/!\\ méthode clée de la classe permettant de contourner la limite de téléchargement de l'API\n",
    "    def __call__(self, *args, **kwargs) -> Tuple[str, List[tw.Status]]: \n",
    "        _cursor = tqdm(self._cursor.items(100000)) # Nombre maximum de Tweets à récolter\n",
    "        return (self._pagination.user_name, list(item for item in _cursor if\n",
    "                                                 any([substring in item.text.upper() for substring in\n",
    "                                                      self._pagination.hashtag])))\n",
    "\n",
    "# retourne la liste des curseurs\n",
    "class CursorGenerator(object):\n",
    "\n",
    "    def __new__(cls, api_session: API, pagination_list: List[Pagination]) -> List[CursorCallable]:\n",
    "        \"\"\"\n",
    "\n",
    "        :param api_session:\n",
    "        :param pagination_list: return a list of cursor to look for item\n",
    "        \"\"\"\n",
    "\n",
    "        return list(\n",
    "            CursorCallable(\n",
    "                cursor=tw.Cursor(method=api_session.user_timeline,\n",
    "                                 screen_name=pagination.user_name,\n",
    "                                 since=\"2019-05-01\"),\n",
    "                pagination=pagination\n",
    "            )\n",
    "            for\n",
    "            pagination in pagination_list\n",
    "        )\n",
    "\n",
    "\n",
    "class DataBaseBuilder(object):\n",
    "\n",
    "    def __init__(self, oauth_client: OAuthClient):\n",
    "        self._df = pd.DataFrame()\n",
    "        self.tweets_old_df = None\n",
    "        self._oauth_client = oauth_client\n",
    "        self._api_session = API()\n",
    "        self._list_of_status = list()\n",
    "        DataBaseBuilder.__post_init__(self)\n",
    "\n",
    "    @property\n",
    "    def df(self):\n",
    "        return self._df\n",
    "\n",
    "    @property\n",
    "    def api_session(self) -> API:\n",
    "        return self._api_session\n",
    "\n",
    "    @property\n",
    "    def oauth_client(self):\n",
    "        return self._oauth_client\n",
    "\n",
    "    def __post_init__(self):\n",
    "        self._auth()\n",
    "        return self\n",
    "\n",
    "    def _auth(self):\n",
    "        \"\"\"\n",
    "\n",
    "        This method will instantiate a new session for REST call on API Twitter\n",
    "        \"\"\"\n",
    "        _auth = tw.OAuthHandler(consumer_key=self._oauth_client.consumer_key,\n",
    "                                consumer_secret=self._oauth_client.consumer_secret)\n",
    "        _auth.set_access_token(key=self._oauth_client.access_token,\n",
    "                               secret=self._oauth_client.access_token_secret)\n",
    "        self._api_session = tw.API(auth_handler=_auth, wait_on_rate_limit=True, wait_on_rate_limit_notify=True)\n",
    "\n",
    "    def get_tweets(self, *args):\n",
    "        return self._read_cursor(*args)\n",
    "\n",
    "    def to_csv(self):\n",
    "        self._build_df()\n",
    "        self.df.to_csv(\"tweets_df.csv\")\n",
    "\n",
    "    def _build_df(self):\n",
    "        for tweet in self._list_of_status:\n",
    "            self._df = self._df.append(pd.DataFrame({'user_name': tweet.user.name,\n",
    "                                                     'user_followers': tweet.user.followers_count,\n",
    "                                                     'user_friends': tweet.user.friends_count,\n",
    "                                                     'user_favourites': tweet.user.favourites_count,\n",
    "                                                     'user_verified': tweet.user.verified,\n",
    "                                                     'Date': tweet.created_at,\n",
    "                                                     'Text': tweet.text,\n",
    "                                                     'Like' : tweet.favorite_count,\n",
    "                                                     'source': tweet.source,\n",
    "                                                     'is_retweet': tweet.retweeted}, index=[0]))\n",
    "        self._df.reset_index()\n",
    "\n",
    "    def _read_cursor(self, *args):\n",
    "        _cursors = CursorGenerator(api_session=self.api_session,\n",
    "                                   pagination_list=PaginationInitiator(*args))\n",
    "\n",
    "        _status_dict = dict(tuple((cursor() for cursor in _cursors)))\n",
    "        self._list_of_status = [x for v in _status_dict.values() for x in v]\n",
    "        return self\n",
    "\n"
   ]
  },
  {
   "cell_type": "code",
   "execution_count": 3,
   "metadata": {},
   "outputs": [],
   "source": [
    "auth_client = OAuthClient(consumer_key=\"0VwCIq3X9FaBMqmLYmZAkamqK\",\n",
    "                          consumer_secret=\"bpUPtpdlly6tiY8Oj4AQYqvsVus4DdvfQ7OTmU2WpadQI61XrR\",\n",
    "                          access_token='1349043797003530242-AfZsuSU35jsN5QBw2Dy4TNWusXlD4l',\n",
    "                          access_token_secret='OP6jVCy6m9yaoqQ8XxEqkKC7dprnE3Uup2Z7DXhnYp4te')\n",
    "data = DataBaseBuilder(auth_client)"
   ]
  },
  {
   "cell_type": "code",
   "execution_count": 4,
   "metadata": {},
   "outputs": [],
   "source": [
    "comptes_twitter = ['Binance','Coinbase', 'Bitstamp','MarketWatch','business','YahooFinance','TechCrunch',\\\n",
    "                   'WSJ','Forbes','FT','TheEconomist','nytimes','Reuters','CNBC','BespokeCrypto','APompliano',\\\n",
    "                   'NickSzabo4','nic__carter','CarpeNoctom','Melt_Dem','100TrillionUSD','MessariCrypto',\\\n",
    "                   'MartyBent','aantonop','Officialmcafee','VitalikButerin','pmarca','rogerkver','ToneVays',\\\n",
    "                   'CharlieShrem','naval','tayvano_','FEhrsam','ErikVoorhees','CryptoCobain','ThisIsNuse',\\\n",
    "                   'loomdart','Sicarious_','Cryptopathic','CryptoHayes','JihanWu','starkness','brian_armstrong',\\\n",
    "                   'BarrySilbert','jack','CryptoDonAlt','CryptoCred']\n",
    "\n",
    "mots_cles = [\"Bitcoin\", \"BTC\"]"
   ]
  },
  {
   "cell_type": "code",
   "execution_count": 5,
   "metadata": {},
   "outputs": [
    {
     "name": "stderr",
     "output_type": "stream",
     "text": [
      "3210it [01:06, 48.23it/s]\n",
      "3211it [01:01, 52.08it/s]\n",
      "3232it [01:05, 49.59it/s]\n",
      "3239it [01:02, 52.14it/s]\n",
      "3229it [01:01, 52.38it/s]\n",
      "1681it [00:35, 29.04it/s]Rate limit reached. Sleeping for: 548\n",
      "3226it [10:19,  5.21it/s]\n",
      "3203it [01:04, 49.67it/s]\n",
      "3228it [01:02, 51.46it/s]\n",
      "3241it [01:02, 52.11it/s]\n",
      "3241it [01:00, 53.33it/s]\n",
      "3245it [01:00, 53.66it/s]\n",
      "81it [00:01,  9.72it/s]Rate limit reached. Sleeping for: 556\n",
      "3222it [10:26,  5.14it/s]\n",
      "3215it [01:01, 52.60it/s]\n",
      "3211it [01:01, 51.96it/s]\n",
      "216it [00:04, 45.91it/s]\n",
      "3244it [01:02, 52.21it/s]\n",
      "3147it [01:07, 46.81it/s]\n",
      "1561it [00:32, 53.99it/s]Rate limit reached. Sleeping for: 547\n",
      "3235it [10:17,  5.24it/s]\n",
      "3225it [01:10, 46.00it/s]\n",
      "3236it [01:05, 49.27it/s]\n",
      "3213it [01:04, 49.63it/s]\n",
      "3245it [01:12, 44.84it/s]\n",
      "3123it [01:16, 40.84it/s]\n",
      "1it [00:00,  2.63it/s]Rate limit reached. Sleeping for: 517\n",
      "3221it [09:50,  5.46it/s]\n",
      "3234it [01:04, 49.83it/s]\n",
      "3244it [01:03, 50.75it/s]\n",
      "152it [00:03, 47.20it/s]\n",
      "3218it [01:07, 47.58it/s]\n",
      "3226it [01:06, 48.53it/s]\n",
      "1493it [00:34, 43.14it/s]Rate limit reached. Sleeping for: 531\n",
      "3214it [10:12,  5.25it/s]\n",
      "3207it [01:01, 52.14it/s]\n",
      "3200it [01:06, 48.05it/s]\n",
      "1338it [00:30, 44.34it/s]\n",
      "3225it [01:06, 48.70it/s]\n",
      "3231it [01:03, 50.50it/s]\n",
      "1854it [00:40, 48.63it/s]Rate limit reached. Sleeping for: 529\n",
      "3224it [10:05,  5.32it/s]\n",
      "3218it [01:02, 51.33it/s]\n",
      "3233it [01:12, 44.70it/s]\n",
      "2355it [00:56, 41.37it/s]\n",
      "291it [00:06, 43.36it/s]\n",
      "869it [00:19, 43.95it/s]\n",
      "3207it [01:11, 44.66it/s]\n",
      "231it [00:07, 32.58it/s]\n",
      "2751it [01:13, 41.52it/s]Rate limit reached. Sleeping for: 498\n",
      "3209it [09:48,  5.45it/s]\n",
      "3205it [01:13, 43.71it/s]\n",
      "3206it [01:00, 53.05it/s]\n",
      "3248it [01:05, 49.59it/s]\n"
     ]
    }
   ],
   "source": [
    "# Imporation des tweets dans une dataFrame\n",
    "# tweets = data.get_tweets(comptes_twitter, mots_cles)\n",
    "tweets = data.get_tweets(comptes_twitter, mots_cles)"
   ]
  },
  {
   "cell_type": "code",
   "execution_count": 7,
   "metadata": {},
   "outputs": [],
   "source": [
    "# Exportation des tweets sous le format d'un csv\n",
    "tweets.to_csv()"
   ]
  },
  {
   "cell_type": "markdown",
   "metadata": {},
   "source": [
    "#### Description du GetTweets\n",
    "\n",
    "Pour commencer, nous avons dû créer en amont (dès l'attribution de notre sujet) un compte \"Twitter Developper\" pour pouvoir obtenir les clés API et les Tokens. Une fois la candidature acceptée, nous avons pu récupérer les Tweets. En revanche, l'API de Twitter Developper permet de recupérer uniquement 900 Tweets par 1/4 d'heure, ce qui peut vite devenir contraignant. Le code ci-dessus permet de \"by-pass\" cette limite en relançant l'instanciation d'une session pour appeler l'API Twitter. De plus, le tour de force de cette structure est de pouvoir combiner une requête sur les noms des utilisateurs ET des hashtags. De base, la bibliothèque de l'API de Twitter ne permet pas de faire une telle rêquete, elle permet uniquement de recupérer des Tweets par utilisateur OU par hashtag. En revanche, les comptes \"Twitter Developper\" bloquent complètement l'accès à plus de 140 caractères dans un Tweet. Cela représente une perte d'information marginale. Nous verrons ci-dessous que la moyenne des Tweets est de 81 caractères."
   ]
  },
  {
   "cell_type": "markdown",
   "metadata": {},
   "source": [
    "### B) Récupération du prix du Bitcoin avec **l'API Binance**"
   ]
  },
  {
   "cell_type": "markdown",
   "metadata": {},
   "source": [
    "#### Appel de l'API"
   ]
  },
  {
   "cell_type": "code",
   "execution_count": 8,
   "metadata": {},
   "outputs": [],
   "source": [
    "# Bibliothèque de l'API Binance\n",
    "from binance.client import Client\n",
    "\n",
    "# Fonction qui nous permet de nous identifer à l'API Binance\n",
    "def get_api_client():\n",
    "    # Key API\n",
    "    api_key = \"LOw2owzbpzBvR2qTuIUPKVv5QLKmNieVbU3NwQMUe5iYiYeC7iHsivtE14LBBjn7\"\n",
    "    api_secret = \"ABw7TxRsDbyVjURFxyE1P9Bm7TDwO0NqX9maql4VhWaTUbQewYz1g5FXWyBek0Fl\"\n",
    "    \n",
    "    return Client(api_key=api_key,api_secret=api_secret)\n",
    "\n",
    "# Fonction qui vérifie que les servers de Binance fonctionnent\n",
    "def check_server_binance():\n",
    "    client = get_api_client()\n",
    "    status = client.get_system_status()\n",
    "    \n",
    "    if status[\"status\"] == 0:\n",
    "        print(\"Server Binance OK !\")\n",
    "        return get_api_client()\n",
    "    elif status[\"status\"] == 1:\n",
    "        print(\"Server Binance maintenance !\")\n",
    "        exit()"
   ]
  },
  {
   "cell_type": "markdown",
   "metadata": {},
   "source": [
    "#### Création, remplissage et exportation de la DataFrame \"price_df\""
   ]
  },
  {
   "cell_type": "code",
   "execution_count": 12,
   "metadata": {},
   "outputs": [],
   "source": [
    "class DownloadPrice(object):\n",
    "    \n",
    "    def __init__(self,client):\n",
    "        # Création de notre DataFrame contenant les prix\n",
    "        self.price_df = pd.DataFrame()\n",
    "        # Objet d'identification avec l'API\n",
    "        self.client = client\n",
    "        # Initialisation des parametres nécessaire à l'API\n",
    "        self.start_date = \"17 Aug, 2017\"\n",
    "        self.symbol_binance = \"BTCUSDT\"\n",
    "        \n",
    "    # Fonction qui load et remplie la DataFrame\n",
    "    def data_loader_binance(self):\n",
    "        # Reponse de l'API\n",
    "        candles = self.client.get_historical_klines(self.symbol_binance, self.client.KLINE_INTERVAL_1HOUR, self.start_date)\n",
    "\n",
    "        # Remplissage de la DataFrame\n",
    "        for candle in candles:\n",
    "            self.price_df = self.price_df.append(pd.DataFrame({ 'Date': datetime.fromtimestamp(candle[0] / 1000),\n",
    "                                                                'Open': candle[1],\n",
    "                                                                'High': candle[2],\n",
    "                                                                'Low': candle[3],\n",
    "                                                                'Close': candle[4],\n",
    "                                                                'Volume': candle[5],\n",
    "                                                                'Close_time': datetime.fromtimestamp(candle[6] / 1000),\n",
    "                                                                'Asset_volume': candle[7],\n",
    "                                                                'Trade_number': candle[8]}, index=[0]))\n",
    "        \n",
    "    # Exportation\n",
    "    def to_csv(self):\n",
    "        self.price_df.to_csv(\"price_df.csv\")"
   ]
  },
  {
   "cell_type": "code",
   "execution_count": 13,
   "metadata": {},
   "outputs": [
    {
     "name": "stdout",
     "output_type": "stream",
     "text": [
      "Server Binance OK !\n"
     ]
    }
   ],
   "source": [
    "# Vérification que l'API fonctionne\n",
    "client = check_server_binance()\n",
    "# Instanciation de la class\n",
    "data = DownloadPrice(client)"
   ]
  },
  {
   "cell_type": "code",
   "execution_count": 14,
   "metadata": {},
   "outputs": [],
   "source": [
    "# Téléchargement des prix du bitcoin\n",
    "data.data_loader_binance()"
   ]
  },
  {
   "cell_type": "code",
   "execution_count": 15,
   "metadata": {},
   "outputs": [],
   "source": [
    "# Exportation DataFrame \"price_df\" sous le format csv\n",
    "data.to_csv()"
   ]
  },
  {
   "cell_type": "markdown",
   "metadata": {},
   "source": [
    "#### Format de la DataFrame :"
   ]
  },
  {
   "cell_type": "code",
   "execution_count": 16,
   "metadata": {},
   "outputs": [
    {
     "data": {
      "text/html": [
       "<div>\n",
       "<style scoped>\n",
       "    .dataframe tbody tr th:only-of-type {\n",
       "        vertical-align: middle;\n",
       "    }\n",
       "\n",
       "    .dataframe tbody tr th {\n",
       "        vertical-align: top;\n",
       "    }\n",
       "\n",
       "    .dataframe thead th {\n",
       "        text-align: right;\n",
       "    }\n",
       "</style>\n",
       "<table border=\"1\" class=\"dataframe\">\n",
       "  <thead>\n",
       "    <tr style=\"text-align: right;\">\n",
       "      <th></th>\n",
       "      <th>Unnamed: 0</th>\n",
       "      <th>Date</th>\n",
       "      <th>Open</th>\n",
       "      <th>High</th>\n",
       "      <th>Low</th>\n",
       "      <th>Close</th>\n",
       "      <th>Volume</th>\n",
       "      <th>Close_time</th>\n",
       "      <th>Asset_volume</th>\n",
       "      <th>Trade_number</th>\n",
       "    </tr>\n",
       "  </thead>\n",
       "  <tbody>\n",
       "    <tr>\n",
       "      <th>0</th>\n",
       "      <td>0</td>\n",
       "      <td>2017-08-17 06:00:00.000</td>\n",
       "      <td>4261.48</td>\n",
       "      <td>4313.62</td>\n",
       "      <td>4261.32</td>\n",
       "      <td>4308.83</td>\n",
       "      <td>47.181009</td>\n",
       "      <td>2017-08-17 06:59:59.999</td>\n",
       "      <td>202366.138393</td>\n",
       "      <td>171</td>\n",
       "    </tr>\n",
       "    <tr>\n",
       "      <th>1</th>\n",
       "      <td>0</td>\n",
       "      <td>2017-08-17 07:00:00.000</td>\n",
       "      <td>4308.83</td>\n",
       "      <td>4328.69</td>\n",
       "      <td>4291.37</td>\n",
       "      <td>4315.32</td>\n",
       "      <td>23.234916</td>\n",
       "      <td>2017-08-17 07:59:59.999</td>\n",
       "      <td>100304.823567</td>\n",
       "      <td>102</td>\n",
       "    </tr>\n",
       "    <tr>\n",
       "      <th>2</th>\n",
       "      <td>0</td>\n",
       "      <td>2017-08-17 08:00:00.000</td>\n",
       "      <td>4330.29</td>\n",
       "      <td>4345.45</td>\n",
       "      <td>4309.37</td>\n",
       "      <td>4324.35</td>\n",
       "      <td>7.229691</td>\n",
       "      <td>2017-08-17 08:59:59.999</td>\n",
       "      <td>31282.312670</td>\n",
       "      <td>36</td>\n",
       "    </tr>\n",
       "    <tr>\n",
       "      <th>3</th>\n",
       "      <td>0</td>\n",
       "      <td>2017-08-17 09:00:00.000</td>\n",
       "      <td>4316.62</td>\n",
       "      <td>4349.99</td>\n",
       "      <td>4287.41</td>\n",
       "      <td>4349.99</td>\n",
       "      <td>4.443249</td>\n",
       "      <td>2017-08-17 09:59:59.999</td>\n",
       "      <td>19241.058300</td>\n",
       "      <td>25</td>\n",
       "    </tr>\n",
       "    <tr>\n",
       "      <th>4</th>\n",
       "      <td>0</td>\n",
       "      <td>2017-08-17 10:00:00.000</td>\n",
       "      <td>4333.32</td>\n",
       "      <td>4377.85</td>\n",
       "      <td>4333.32</td>\n",
       "      <td>4360.69</td>\n",
       "      <td>0.972807</td>\n",
       "      <td>2017-08-17 10:59:59.999</td>\n",
       "      <td>4239.503586</td>\n",
       "      <td>28</td>\n",
       "    </tr>\n",
       "  </tbody>\n",
       "</table>\n",
       "</div>"
      ],
      "text/plain": [
       "   Unnamed: 0                     Date     Open     High      Low    Close  \\\n",
       "0           0  2017-08-17 06:00:00.000  4261.48  4313.62  4261.32  4308.83   \n",
       "1           0  2017-08-17 07:00:00.000  4308.83  4328.69  4291.37  4315.32   \n",
       "2           0  2017-08-17 08:00:00.000  4330.29  4345.45  4309.37  4324.35   \n",
       "3           0  2017-08-17 09:00:00.000  4316.62  4349.99  4287.41  4349.99   \n",
       "4           0  2017-08-17 10:00:00.000  4333.32  4377.85  4333.32  4360.69   \n",
       "\n",
       "      Volume               Close_time   Asset_volume  Trade_number  \n",
       "0  47.181009  2017-08-17 06:59:59.999  202366.138393           171  \n",
       "1  23.234916  2017-08-17 07:59:59.999  100304.823567           102  \n",
       "2   7.229691  2017-08-17 08:59:59.999   31282.312670            36  \n",
       "3   4.443249  2017-08-17 09:59:59.999   19241.058300            25  \n",
       "4   0.972807  2017-08-17 10:59:59.999    4239.503586            28  "
      ]
     },
     "execution_count": 16,
     "metadata": {},
     "output_type": "execute_result"
    }
   ],
   "source": [
    "price_df = pd.read_csv(\"price_df.csv\")\n",
    "price_df.head()"
   ]
  },
  {
   "cell_type": "code",
   "execution_count": 17,
   "metadata": {},
   "outputs": [
    {
     "name": "stdout",
     "output_type": "stream",
     "text": [
      "Shape DataFrame :  (30330, 10)\n"
     ]
    }
   ],
   "source": [
    "print(\"Shape DataFrame : \",price_df.shape)"
   ]
  },
  {
   "cell_type": "code",
   "execution_count": 18,
   "metadata": {},
   "outputs": [
    {
     "name": "stdout",
     "output_type": "stream",
     "text": [
      "Prix du 2017-08-17 06:00:00.000, au 2021-02-05 15:00:00\n"
     ]
    }
   ],
   "source": [
    "print(\"Prix du {0}, au {1}\".format(price_df['Date'][0],price_df['Date'][len(price_df)-1]))"
   ]
  },
  {
   "cell_type": "markdown",
   "metadata": {},
   "source": [
    "## 2) Data-Cleaning des données"
   ]
  },
  {
   "cell_type": "markdown",
   "metadata": {},
   "source": [
    "### A) Retraitement des tweets"
   ]
  },
  {
   "cell_type": "markdown",
   "metadata": {},
   "source": [
    "Une fois les Tweets extraits, nous devons les retraiter afin de les rendre exploitables, **nous supprimons l'ensemble des :**\n",
    "\n",
    "\n",
    "    - symboles '#'\n",
    "    - hyperlinks\n",
    "    - noms d'utilisateurs Twitter\n",
    "    - emojis\n",
    "    - répétitions d'espaces\n",
    "    - ponctuations\n",
    "    - mots 'RT' (signifie que c'est un retweet) `\n",
    "    "
   ]
  },
  {
   "cell_type": "code",
   "execution_count": 22,
   "metadata": {},
   "outputs": [],
   "source": [
    "import datetime\n",
    "import numpy as np\n",
    "class PreprocessingTweets:\n",
    "    \n",
    "    def __init__(self):\n",
    "        self.tweets_df = pd.read_csv(\"tweets_df.csv\")\n",
    "        \n",
    "    def remove_pattern(self):\n",
    "        # Suppression du mot 'RT'\n",
    "        self.tweets_df['Text'] = self.tweets_df['Text'].str.replace('RT', '')\n",
    "        # Suppression du symbol '#'\n",
    "        self.tweets_df['Text'] = self.tweets_df['Text'].str.replace('#', '')\n",
    "        # Supression des liens internet\n",
    "        self.tweets_df['Text'] = self.tweets_df['Text'].str.replace('https?:\\/\\/.*[\\r\\n]*', '')\n",
    "        # Suppression des noms d'utilisateurs\n",
    "        self.tweets_df['Text'] = self.tweets_df['Text'].str.replace('@[\\w]*', '')\n",
    "        # Suppression des emojis\n",
    "        self.tweets_df['Text'] = self.tweets_df['Text'].str.replace('[^a-zA-Z#]', ' ')\n",
    "        # Suppression des espaces en trop\n",
    "        self.tweets_df['Text'] = self.tweets_df['Text'].apply(lambda x: \" \".join(x.split()))  \n",
    "        # Conversion des majuscules en minuscules\n",
    "        self.tweets_df['Text'] = self.tweets_df['Text'].apply(lambda x: x.lower())\n",
    "        \n",
    "        # Suppression des lignes n'ayant plus de text apres le retraitement \n",
    "        self.tweets_df['Text'].replace(\"\", np.nan, inplace=True)\n",
    "        self.tweets_df.dropna(subset=['Text'],inplace=True)\n",
    "        \n",
    "        # Suppresion des colonnes, qui ne seront pas utilisées par la suite\n",
    "        self.tweets_df.drop(columns=['Unnamed: 0','is_retweet','user_verified','source'],inplace=True)\n",
    "        \n",
    "    def convert_columns(self): # Convertion de la date en Datetime\n",
    "        self.tweets_df['Date'] = self.tweets_df['Date'].apply(lambda x : pd.Timestamp(x).ceil('60min'))\n",
    "        \n",
    "    def to_csv(self):\n",
    "        self.tweets_df.to_csv(\"tweets_df.csv\")"
   ]
  },
  {
   "cell_type": "markdown",
   "metadata": {},
   "source": [
    "#### Remarque importante quant à la temporalité des Tweets :\n",
    "\n",
    "Ici, nous arrondissons les horaires des Tweets à l'heure supérieure pour éviter une erreur capitale qui sera détaillée par la suite car elle est liée aux rendements."
   ]
  },
  {
   "cell_type": "code",
   "execution_count": 23,
   "metadata": {},
   "outputs": [],
   "source": [
    "# Instanciation de la class\n",
    "cleaning_tweets = PreprocessingTweets()"
   ]
  },
  {
   "cell_type": "code",
   "execution_count": 24,
   "metadata": {},
   "outputs": [],
   "source": [
    "# Suppression des éléments\n",
    "cleaning_tweets.remove_pattern()"
   ]
  },
  {
   "cell_type": "code",
   "execution_count": 25,
   "metadata": {},
   "outputs": [],
   "source": [
    "# Convertion de la date sous le format Datetime\n",
    "cleaning_tweets.convert_columns()"
   ]
  },
  {
   "cell_type": "code",
   "execution_count": 26,
   "metadata": {},
   "outputs": [],
   "source": [
    "# Exportation Dataframe \"tweets_df\" sous le format csv\n",
    "cleaning_tweets.to_csv()"
   ]
  },
  {
   "cell_type": "markdown",
   "metadata": {},
   "source": [
    "#### Format de la DataFrame \"tweets_df\" retraité :"
   ]
  },
  {
   "cell_type": "code",
   "execution_count": 27,
   "metadata": {},
   "outputs": [],
   "source": [
    "tweets_df = pd.read_csv(\"tweets_df.csv\")"
   ]
  },
  {
   "cell_type": "code",
   "execution_count": 28,
   "metadata": {},
   "outputs": [
    {
     "data": {
      "text/html": [
       "<div>\n",
       "<style scoped>\n",
       "    .dataframe tbody tr th:only-of-type {\n",
       "        vertical-align: middle;\n",
       "    }\n",
       "\n",
       "    .dataframe tbody tr th {\n",
       "        vertical-align: top;\n",
       "    }\n",
       "\n",
       "    .dataframe thead th {\n",
       "        text-align: right;\n",
       "    }\n",
       "</style>\n",
       "<table border=\"1\" class=\"dataframe\">\n",
       "  <thead>\n",
       "    <tr style=\"text-align: right;\">\n",
       "      <th></th>\n",
       "      <th>Unnamed: 0</th>\n",
       "      <th>user_name</th>\n",
       "      <th>user_followers</th>\n",
       "      <th>user_friends</th>\n",
       "      <th>user_favourites</th>\n",
       "      <th>Date</th>\n",
       "      <th>Text</th>\n",
       "      <th>Like</th>\n",
       "    </tr>\n",
       "  </thead>\n",
       "  <tbody>\n",
       "    <tr>\n",
       "      <th>0</th>\n",
       "      <td>0</td>\n",
       "      <td>Binance</td>\n",
       "      <td>1602031</td>\n",
       "      <td>382</td>\n",
       "      <td>3316</td>\n",
       "      <td>2021-02-04 23:00:00</td>\n",
       "      <td>it s easier than ever before to trade p p but ...</td>\n",
       "      <td>213</td>\n",
       "    </tr>\n",
       "    <tr>\n",
       "      <th>1</th>\n",
       "      <td>1</td>\n",
       "      <td>Binance</td>\n",
       "      <td>1602031</td>\n",
       "      <td>382</td>\n",
       "      <td>3316</td>\n",
       "      <td>2021-02-04 21:00:00</td>\n",
       "      <td>we ve made buying bitcoin even easier</td>\n",
       "      <td>269</td>\n",
       "    </tr>\n",
       "    <tr>\n",
       "      <th>2</th>\n",
       "      <td>2</td>\n",
       "      <td>Binance</td>\n",
       "      <td>1602031</td>\n",
       "      <td>382</td>\n",
       "      <td>3316</td>\n",
       "      <td>2021-02-04 09:00:00</td>\n",
       "      <td>in the current environment of monetary inflati...</td>\n",
       "      <td>412</td>\n",
       "    </tr>\n",
       "    <tr>\n",
       "      <th>3</th>\n",
       "      <td>3</td>\n",
       "      <td>Binance</td>\n",
       "      <td>1602031</td>\n",
       "      <td>382</td>\n",
       "      <td>3316</td>\n",
       "      <td>2021-02-04 08:00:00</td>\n",
       "      <td>did it work bitcoin</td>\n",
       "      <td>0</td>\n",
       "    </tr>\n",
       "    <tr>\n",
       "      <th>4</th>\n",
       "      <td>4</td>\n",
       "      <td>Binance</td>\n",
       "      <td>1602031</td>\n",
       "      <td>382</td>\n",
       "      <td>3316</td>\n",
       "      <td>2021-02-04 03:00:00</td>\n",
       "      <td>if you missed the fireside chat earlier it s s...</td>\n",
       "      <td>0</td>\n",
       "    </tr>\n",
       "  </tbody>\n",
       "</table>\n",
       "</div>"
      ],
      "text/plain": [
       "   Unnamed: 0 user_name  user_followers  user_friends  user_favourites  \\\n",
       "0           0   Binance         1602031           382             3316   \n",
       "1           1   Binance         1602031           382             3316   \n",
       "2           2   Binance         1602031           382             3316   \n",
       "3           3   Binance         1602031           382             3316   \n",
       "4           4   Binance         1602031           382             3316   \n",
       "\n",
       "                  Date                                               Text  \\\n",
       "0  2021-02-04 23:00:00  it s easier than ever before to trade p p but ...   \n",
       "1  2021-02-04 21:00:00              we ve made buying bitcoin even easier   \n",
       "2  2021-02-04 09:00:00  in the current environment of monetary inflati...   \n",
       "3  2021-02-04 08:00:00                                did it work bitcoin   \n",
       "4  2021-02-04 03:00:00  if you missed the fireside chat earlier it s s...   \n",
       "\n",
       "   Like  \n",
       "0   213  \n",
       "1   269  \n",
       "2   412  \n",
       "3     0  \n",
       "4     0  "
      ]
     },
     "execution_count": 28,
     "metadata": {},
     "output_type": "execute_result"
    }
   ],
   "source": [
    "tweets_df.head()"
   ]
  },
  {
   "cell_type": "code",
   "execution_count": 29,
   "metadata": {},
   "outputs": [
    {
     "name": "stdout",
     "output_type": "stream",
     "text": [
      "Shape DataFrame :  (3858, 8)\n"
     ]
    }
   ],
   "source": [
    "print(\"Shape DataFrame : \",tweets_df.shape)"
   ]
  },
  {
   "cell_type": "markdown",
   "metadata": {},
   "source": [
    "### B) Retraitement des prix"
   ]
  },
  {
   "cell_type": "code",
   "execution_count": 30,
   "metadata": {},
   "outputs": [],
   "source": [
    "from sklearn.preprocessing import StandardScaler\n",
    "\n",
    "class PreprocessingPrice:\n",
    "    \n",
    "    def __init__(self):\n",
    "        self.price_df = pd.read_csv(\"price_df.csv\")\n",
    "        # Initialisation de scaler pour standardiser la colonne Target\n",
    "        self.scaler = StandardScaler()\n",
    "        \n",
    "    def convert_columns(self):\n",
    "        # Conversion de la colonne des colonnes ['Close','Open','High','Low','Volume'] en float\n",
    "        self.price_df['Close'] = self.price_df['Close'].apply(float)\n",
    "        self.price_df['Open'] = self.price_df['Open'].apply(float)\n",
    "        self.price_df['High'] = self.price_df['High'].apply(float)\n",
    "        self.price_df['Low'] = self.price_df['Low'].apply(float)\n",
    "        self.price_df['Volume'] = self.price_df['Volume'].apply(float)\n",
    "        \n",
    "        # Convertion de la date en Datetime\n",
    "        self.price_df['Date'] = self.price_df['Date'].apply(lambda x : datetime.datetime.strptime(x[0:19], \"%Y-%m-%d %H:%M:%S\").replace(minute=0,second=0))\n",
    "        \n",
    "        \n",
    "    def add_target(self):\n",
    "        # Ajout de la colonne Target\n",
    "        self.price_df['Target'] = (self.price_df['Close'].shift(-1) - self.price_df['Close']) / self.price_df['Close']\n",
    "        # Standardisation de la colonne Target\n",
    "        self.price_df['Target'] = self.scaler.fit_transform(pd.Series(self.price_df['Target']).values.reshape(-1, 1))\n",
    "        \n",
    "    def to_csv(self):\n",
    "        self.price_df.to_csv(\"price_df.csv\")\n"
   ]
  },
  {
   "cell_type": "code",
   "execution_count": 31,
   "metadata": {},
   "outputs": [],
   "source": [
    "# Instanciation de la classe\n",
    "cleaning_price = PreprocessingPrice()"
   ]
  },
  {
   "cell_type": "code",
   "execution_count": 32,
   "metadata": {},
   "outputs": [],
   "source": [
    "# Conversion des colonnes sous le bon format float ou Datetime\n",
    "cleaning_price.convert_columns()"
   ]
  },
  {
   "cell_type": "code",
   "execution_count": 33,
   "metadata": {},
   "outputs": [],
   "source": [
    "# Ajout et normalisation de la colonne Target, correspond à 'Y'\n",
    "cleaning_price.add_target()"
   ]
  },
  {
   "cell_type": "code",
   "execution_count": 34,
   "metadata": {},
   "outputs": [],
   "source": [
    "# Exportation DataFrame \"price_df\" sous csv\n",
    "cleaning_price.to_csv()"
   ]
  },
  {
   "cell_type": "markdown",
   "metadata": {},
   "source": [
    "### C) Fusion des bases de données"
   ]
  },
  {
   "cell_type": "code",
   "execution_count": 35,
   "metadata": {},
   "outputs": [],
   "source": [
    "import datetime"
   ]
  },
  {
   "cell_type": "code",
   "execution_count": 36,
   "metadata": {},
   "outputs": [],
   "source": [
    "class MergeTweetsPrice():\n",
    "    \n",
    "    def __init__(self):\n",
    "        self.tweets_df = pd.read_csv(\"tweets_df.csv\")\n",
    "        self.price_df = pd.read_csv(\"price_df.csv\")\n",
    "    \n",
    "    def merge_data(self):\n",
    "        # Fusion des base de données\n",
    "        self.tweets_price_df = self.tweets_df.merge(self.price_df, how='inner', on='Date')\n",
    "        self.tweets_price_df.set_index('Date', inplace=True)\n",
    "        # Suppresion des dernières colonnes inutiles\n",
    "        self.tweets_price_df.drop(columns=['Unnamed: 0_x','Unnamed: 0_y','Unnamed: 0.1'],inplace = True)\n",
    "        \n",
    "    def to_csv(self):\n",
    "        self.tweets_price_df.to_csv(\"tweets_price_df.csv\")"
   ]
  },
  {
   "cell_type": "code",
   "execution_count": 37,
   "metadata": {},
   "outputs": [],
   "source": [
    "# Instanciation de la classe\n",
    "data = MergeTweetsPrice()"
   ]
  },
  {
   "cell_type": "code",
   "execution_count": 38,
   "metadata": {},
   "outputs": [],
   "source": [
    "# Fusion des classes\n",
    "data.merge_data()"
   ]
  },
  {
   "cell_type": "code",
   "execution_count": 39,
   "metadata": {},
   "outputs": [],
   "source": [
    "# Exportation DataFrame final sous csv\n",
    "data.to_csv()"
   ]
  },
  {
   "cell_type": "markdown",
   "metadata": {},
   "source": [
    "### Remarque clée\n",
    "\n",
    "Il réside ici une subtilité quant à la problématique de l'association des rendements aux Tweets. En effet, cette question revient à se demander \"quelle est la persistance de l'information dans le prix ? \". En d'autres termes, il nous faut associer un Tweet en $t$ à son rendement en $t+\\delta t$, où $\\delta t$ est l'incrément de temps nécessaire pour que l'information soit intégrée dans le prix. C'est exactement ce qui est fait ici. Nous avons choisi $\\delta t$ d'une heure. Après plusieurs essais de différents \"lag\", nous avons ce choix de \"lag\" d'une heure pour nos rendements suite à la lecture du papier suivant \"Fear and Volatility in Digital Assets\" by Faizaan Pervaiz, Christopher Goh, Ashley Pennington, Samuel Holt, James West, Shaun Ng, Octobre 2020(https://arxiv.org/abs/2010.15611)."
   ]
  },
  {
   "cell_type": "markdown",
   "metadata": {},
   "source": [
    "## 3) Data-Visualisation"
   ]
  },
  {
   "cell_type": "markdown",
   "metadata": {},
   "source": [
    "### Format de la DataFrame final :"
   ]
  },
  {
   "cell_type": "code",
   "execution_count": 1,
   "metadata": {},
   "outputs": [
    {
     "data": {
      "text/html": [
       "<div>\n",
       "<style scoped>\n",
       "    .dataframe tbody tr th:only-of-type {\n",
       "        vertical-align: middle;\n",
       "    }\n",
       "\n",
       "    .dataframe tbody tr th {\n",
       "        vertical-align: top;\n",
       "    }\n",
       "\n",
       "    .dataframe thead th {\n",
       "        text-align: right;\n",
       "    }\n",
       "</style>\n",
       "<table border=\"1\" class=\"dataframe\">\n",
       "  <thead>\n",
       "    <tr style=\"text-align: right;\">\n",
       "      <th></th>\n",
       "      <th>Date</th>\n",
       "      <th>user_name</th>\n",
       "      <th>user_followers</th>\n",
       "      <th>user_friends</th>\n",
       "      <th>user_favourites</th>\n",
       "      <th>Text</th>\n",
       "      <th>Like</th>\n",
       "      <th>Open</th>\n",
       "      <th>High</th>\n",
       "      <th>Low</th>\n",
       "      <th>Close</th>\n",
       "      <th>Volume</th>\n",
       "      <th>Close_time</th>\n",
       "      <th>Asset_volume</th>\n",
       "      <th>Trade_number</th>\n",
       "      <th>Target</th>\n",
       "    </tr>\n",
       "  </thead>\n",
       "  <tbody>\n",
       "    <tr>\n",
       "      <th>0</th>\n",
       "      <td>2021-02-04 23:00:00</td>\n",
       "      <td>Binance</td>\n",
       "      <td>1602031</td>\n",
       "      <td>382</td>\n",
       "      <td>3316</td>\n",
       "      <td>it s easier than ever before to trade p p but ...</td>\n",
       "      <td>213</td>\n",
       "      <td>37643.0</td>\n",
       "      <td>37698.73</td>\n",
       "      <td>36964.03</td>\n",
       "      <td>37240.0</td>\n",
       "      <td>2533.48052</td>\n",
       "      <td>2021-02-04 23:59:59.999</td>\n",
       "      <td>9.435982e+07</td>\n",
       "      <td>79029</td>\n",
       "      <td>-0.848392</td>\n",
       "    </tr>\n",
       "    <tr>\n",
       "      <th>1</th>\n",
       "      <td>2021-02-04 23:00:00</td>\n",
       "      <td>Marty Bent</td>\n",
       "      <td>45299</td>\n",
       "      <td>2856</td>\n",
       "      <td>105125</td>\n",
       "      <td>having bitcoin advocates like and in positions...</td>\n",
       "      <td>0</td>\n",
       "      <td>37643.0</td>\n",
       "      <td>37698.73</td>\n",
       "      <td>36964.03</td>\n",
       "      <td>37240.0</td>\n",
       "      <td>2533.48052</td>\n",
       "      <td>2021-02-04 23:59:59.999</td>\n",
       "      <td>9.435982e+07</td>\n",
       "      <td>79029</td>\n",
       "      <td>-0.848392</td>\n",
       "    </tr>\n",
       "  </tbody>\n",
       "</table>\n",
       "</div>"
      ],
      "text/plain": [
       "                  Date   user_name  user_followers  user_friends  \\\n",
       "0  2021-02-04 23:00:00     Binance         1602031           382   \n",
       "1  2021-02-04 23:00:00  Marty Bent           45299          2856   \n",
       "\n",
       "   user_favourites                                               Text  Like  \\\n",
       "0             3316  it s easier than ever before to trade p p but ...   213   \n",
       "1           105125  having bitcoin advocates like and in positions...     0   \n",
       "\n",
       "      Open      High       Low    Close      Volume               Close_time  \\\n",
       "0  37643.0  37698.73  36964.03  37240.0  2533.48052  2021-02-04 23:59:59.999   \n",
       "1  37643.0  37698.73  36964.03  37240.0  2533.48052  2021-02-04 23:59:59.999   \n",
       "\n",
       "   Asset_volume  Trade_number    Target  \n",
       "0  9.435982e+07         79029 -0.848392  \n",
       "1  9.435982e+07         79029 -0.848392  "
      ]
     },
     "execution_count": 1,
     "metadata": {},
     "output_type": "execute_result"
    }
   ],
   "source": [
    "df = pd.read_csv(\"tweets_price_df.csv\")\n",
    "df.head(2)"
   ]
  },
  {
   "cell_type": "code",
   "execution_count": 41,
   "metadata": {},
   "outputs": [
    {
     "name": "stdout",
     "output_type": "stream",
     "text": [
      "Shape DataFrame :  (3349, 16)\n"
     ]
    }
   ],
   "source": [
    "print(\"Shape DataFrame : \",df.shape)"
   ]
  },
  {
   "cell_type": "markdown",
   "metadata": {},
   "source": [
    "### Répartition des tweets sur chaque année"
   ]
  },
  {
   "cell_type": "code",
   "execution_count": 111,
   "metadata": {},
   "outputs": [],
   "source": [
    "import matplotlib.pyplot as plt\n",
    "import warnings\n",
    "warnings.filterwarnings('ignore')"
   ]
  },
  {
   "cell_type": "code",
   "execution_count": 103,
   "metadata": {},
   "outputs": [],
   "source": [
    "value_date = [datetime.datetime.strptime(val, \"%Y-%m-%d %H:%M:%S\").year for val in df['Date']]"
   ]
  },
  {
   "cell_type": "code",
   "execution_count": 104,
   "metadata": {},
   "outputs": [],
   "source": [
    "dict_date = dict([(n, value_date.count(n)) for n in set(value_date)])"
   ]
  },
  {
   "cell_type": "code",
   "execution_count": 116,
   "metadata": {},
   "outputs": [
    {
     "data": {
      "image/png": "[encoded data removed]",
      "text/plain": [
       "<Figure size 1008x432 with 1 Axes>"
      ]
     },
     "metadata": {
      "needs_background": "light"
     },
     "output_type": "display_data"
    }
   ],
   "source": [
    "plt.bar(dict_date.keys(), dict_date.values())\n",
    "plt.rcParams['figure.figsize'] = (14,6)\n",
    "plt.show()"
   ]
  },
  {
   "cell_type": "markdown",
   "metadata": {},
   "source": [
    "`Nous remarquons que la majorité de nos données proviennent de l'année 2020` "
   ]
  },
  {
   "cell_type": "markdown",
   "metadata": {},
   "source": [
    "### Nombre de caractères moyen par Tweet"
   ]
  },
  {
   "cell_type": "code",
   "execution_count": 106,
   "metadata": {},
   "outputs": [],
   "source": [
    "nombre_caractere = [len(val) for val in df['Text']]"
   ]
  },
  {
   "cell_type": "code",
   "execution_count": 107,
   "metadata": {},
   "outputs": [],
   "source": [
    "nombre_caractere_mean = sum(nombre_caractere)/len(nombre_caractere)"
   ]
  },
  {
   "cell_type": "code",
   "execution_count": 108,
   "metadata": {},
   "outputs": [
    {
     "name": "stdout",
     "output_type": "stream",
     "text": [
      "Nombre de caractères moyen par Tweets : 81 \n"
     ]
    }
   ],
   "source": [
    "print(\"Nombre de caractères moyen par Tweets : {} \".format(int(nombre_caractere_mean)))"
   ]
  },
  {
   "cell_type": "markdown",
   "metadata": {},
   "source": [
    "### Nombre moyen de like par compte"
   ]
  },
  {
   "cell_type": "code",
   "execution_count": 109,
   "metadata": {},
   "outputs": [],
   "source": [
    "mean_like = df.groupby(['user_name'])['Like'].mean()"
   ]
  },
  {
   "cell_type": "code",
   "execution_count": 115,
   "metadata": {},
   "outputs": [
    {
     "data": {
      "image/png": "[encoded data removed]",
      "text/plain": [
       "<Figure size 1008x432 with 1 Axes>"
      ]
     },
     "metadata": {
      "needs_background": "light"
     },
     "output_type": "display_data"
    }
   ],
   "source": [
    "plt.bar(mean_like.index, mean_like)\n",
    "plt.xticks(rotation=90)\n",
    "plt.rcParams['figure.figsize'] = (14,6)\n",
    "plt.show()"
   ]
  },
  {
   "cell_type": "markdown",
   "metadata": {},
   "source": [
    "Nous observons que le compte le plus liké est **@jack**. Ceci est intéressant dans le mesure où ce dernier est le créateur de Twitter et l'un des plus gros activistes au monde sur le Bitcoin."
   ]
  },
  {
   "cell_type": "markdown",
   "metadata": {},
   "source": [
    "### Contenu des 5 Tweets les plus likés"
   ]
  },
  {
   "cell_type": "code",
   "execution_count": 117,
   "metadata": {
    "scrolled": false
   },
   "outputs": [
    {
     "name": "stdout",
     "output_type": "stream",
     "text": [
      "Contenue Tweet 1 : presenting the th anniversary special btc at off on us m allocation no cro staking requir\n",
      "\n",
      "Contenue Tweet 2 : running bitcoin\n",
      "\n",
      "Contenue Tweet 3 : happy birthday bitcoin\n",
      "\n",
      "Contenue Tweet 4 : want to build your btc position at off sept is your chance we ve allocated usd to\n",
      "\n",
      "Contenue Tweet 5 : donate via bitcoin to help endsars\n",
      "\n"
     ]
    }
   ],
   "source": [
    "list_max = df.sort_values(['Like']).reset_index()['Text'][-5:]\n",
    "for i in range(len(list_max)):\n",
    "    print(\"Contenu Tweet {0} : {1}\\n\".format(i+1,list_max.values[i]))"
   ]
  },
  {
   "cell_type": "markdown",
   "metadata": {},
   "source": [
    "### Plot Rendements normalisés"
   ]
  },
  {
   "cell_type": "code",
   "execution_count": 17,
   "metadata": {
    "scrolled": false
   },
   "outputs": [
    {
     "data": {
      "image/png": "[encoded data removed]",
      "text/plain": [
       "<Figure size 1008x576 with 2 Axes>"
      ]
     },
     "metadata": {
      "needs_background": "light"
     },
     "output_type": "display_data"
    }
   ],
   "source": [
    "plt.subplot(211)\n",
    "plt.plot(df['Target'])\n",
    "plt.title(\"Plot de Target\")\n",
    "plt.ylabel('Target')\n",
    "plt.xlabel('Date')\n",
    "\n",
    "plt.subplot(212)\n",
    "plt.scatter([i for i in range(len(df))],df['Target'], alpha=0.5)\n",
    "plt.xlabel('Date')\n",
    "plt.ylabel('Target')\n",
    "\n",
    "plt.grid(True)\n",
    "plt.rcParams['figure.figsize'] = (14,6)\n",
    "plt.subplots_adjust(top=0.92, bottom=0.08, left=0.10, right=0.95, hspace=0.5, wspace=0.35)\n",
    "plt.show()"
   ]
  },
  {
   "cell_type": "markdown",
   "metadata": {},
   "source": [
    "## 4) NLP - BERT & Hugging Face"
   ]
  },
  {
   "cell_type": "markdown",
   "metadata": {},
   "source": [
    "Brièvement, notre but ici est d'utiliser un algorithme de `Sentiment Analysis` associé à nos returns standardisés. Pour chaque nouveau Tweet, l'algorithme nous retournera un score qui sera une forme de `Sentiment Analysis` ayant appris des rendements qui sont associés à chaque Tweet. Notre objectif est de trouver des scores relativement élevés (en valeur absolue), ces derniers seront pour nous nos signaux d'achat ou de vente."
   ]
  },
  {
   "cell_type": "markdown",
   "metadata": {},
   "source": [
    "## Attention:\n",
    "\n",
    "Nous conseillons de lancer la partie 4) sur **Google Colaboratory** pour pouvoir avoir accès à un GPU pour les calculs qui sont très importants (le temps de calcul passe de 1h30 à 4min en passant par un GPU). "
   ]
  },
  {
   "cell_type": "code",
   "execution_count": null,
   "metadata": {
    "colab": {
     "base_uri": "https://localhost:8080/"
    },
    "id": "eg8uZN-Sv1-r",
    "outputId": "f3d83770-f58f-4314-dc4f-bf02b2d87e81"
   },
   "outputs": [
    {
     "name": "stdout",
     "output_type": "stream",
     "text": [
      "Collecting transformers\n",
      "\u001b[?25l  Downloading https://files.pythonhosted.org/packages/88/b1/41130a228dd656a1a31ba281598a968320283f48d42782845f6ba567f00b/transformers-4.2.2-py3-none-any.whl (1.8MB)\n",
      "\u001b[K     |████████████████████████████████| 1.8MB 5.6MB/s \n",
      "\u001b[?25hRequirement already satisfied: tqdm>=4.27 in /usr/local/lib/python3.6/dist-packages (from transformers) (4.41.1)\n",
      "Requirement already satisfied: packaging in /usr/local/lib/python3.6/dist-packages (from transformers) (20.9)\n",
      "Requirement already satisfied: numpy in /usr/local/lib/python3.6/dist-packages (from transformers) (1.19.5)\n",
      "Requirement already satisfied: importlib-metadata; python_version < \"3.8\" in /usr/local/lib/python3.6/dist-packages (from transformers) (3.4.0)\n",
      "Collecting tokenizers==0.9.4\n",
      "\u001b[?25l  Downloading https://files.pythonhosted.org/packages/0f/1c/e789a8b12e28be5bc1ce2156cf87cb522b379be9cadc7ad8091a4cc107c4/tokenizers-0.9.4-cp36-cp36m-manylinux2010_x86_64.whl (2.9MB)\n",
      "\u001b[K     |████████████████████████████████| 2.9MB 19.7MB/s \n",
      "\u001b[?25hRequirement already satisfied: dataclasses; python_version < \"3.7\" in /usr/local/lib/python3.6/dist-packages (from transformers) (0.8)\n",
      "Requirement already satisfied: regex!=2019.12.17 in /usr/local/lib/python3.6/dist-packages (from transformers) (2019.12.20)\n",
      "Requirement already satisfied: filelock in /usr/local/lib/python3.6/dist-packages (from transformers) (3.0.12)\n",
      "Collecting sacremoses\n",
      "\u001b[?25l  Downloading https://files.pythonhosted.org/packages/7d/34/09d19aff26edcc8eb2a01bed8e98f13a1537005d31e95233fd48216eed10/sacremoses-0.0.43.tar.gz (883kB)\n",
      "\u001b[K     |████████████████████████████████| 890kB 32.7MB/s \n",
      "\u001b[?25hRequirement already satisfied: requests in /usr/local/lib/python3.6/dist-packages (from transformers) (2.23.0)\n",
      "Requirement already satisfied: pyparsing>=2.0.2 in /usr/local/lib/python3.6/dist-packages (from packaging->transformers) (2.4.7)\n",
      "Requirement already satisfied: typing-extensions>=3.6.4; python_version < \"3.8\" in /usr/local/lib/python3.6/dist-packages (from importlib-metadata; python_version < \"3.8\"->transformers) (3.7.4.3)\n",
      "Requirement already satisfied: zipp>=0.5 in /usr/local/lib/python3.6/dist-packages (from importlib-metadata; python_version < \"3.8\"->transformers) (3.4.0)\n",
      "Requirement already satisfied: six in /usr/local/lib/python3.6/dist-packages (from sacremoses->transformers) (1.15.0)\n",
      "Requirement already satisfied: click in /usr/local/lib/python3.6/dist-packages (from sacremoses->transformers) (7.1.2)\n",
      "Requirement already satisfied: joblib in /usr/local/lib/python3.6/dist-packages (from sacremoses->transformers) (1.0.0)\n",
      "Requirement already satisfied: certifi>=2017.4.17 in /usr/local/lib/python3.6/dist-packages (from requests->transformers) (2020.12.5)\n",
      "Requirement already satisfied: chardet<4,>=3.0.2 in /usr/local/lib/python3.6/dist-packages (from requests->transformers) (3.0.4)\n",
      "Requirement already satisfied: urllib3!=1.25.0,!=1.25.1,<1.26,>=1.21.1 in /usr/local/lib/python3.6/dist-packages (from requests->transformers) (1.24.3)\n",
      "Requirement already satisfied: idna<3,>=2.5 in /usr/local/lib/python3.6/dist-packages (from requests->transformers) (2.10)\n",
      "Building wheels for collected packages: sacremoses\n",
      "  Building wheel for sacremoses (setup.py) ... \u001b[?25l\u001b[?25hdone\n",
      "  Created wheel for sacremoses: filename=sacremoses-0.0.43-cp36-none-any.whl size=893261 sha256=6f2b94166c1236346eb8964d53e8bddea5a6105807ec00188810da677a2056ec\n",
      "  Stored in directory: /root/.cache/pip/wheels/29/3c/fd/7ce5c3f0666dab31a50123635e6fb5e19ceb42ce38d4e58f45\n",
      "Successfully built sacremoses\n",
      "Installing collected packages: tokenizers, sacremoses, transformers\n",
      "Successfully installed sacremoses-0.0.43 tokenizers-0.9.4 transformers-4.2.2\n",
      "Requirement already satisfied: torch in /usr/local/lib/python3.6/dist-packages (1.7.0+cu101)\n",
      "Requirement already satisfied: numpy in /usr/local/lib/python3.6/dist-packages (from torch) (1.19.5)\n",
      "Requirement already satisfied: dataclasses in /usr/local/lib/python3.6/dist-packages (from torch) (0.8)\n",
      "Requirement already satisfied: future in /usr/local/lib/python3.6/dist-packages (from torch) (0.16.0)\n",
      "Requirement already satisfied: typing-extensions in /usr/local/lib/python3.6/dist-packages (from torch) (3.7.4.3)\n",
      "Requirement already satisfied: sklearn in /usr/local/lib/python3.6/dist-packages (0.0)\n",
      "Requirement already satisfied: scikit-learn in /usr/local/lib/python3.6/dist-packages (from sklearn) (0.22.2.post1)\n",
      "Requirement already satisfied: joblib>=0.11 in /usr/local/lib/python3.6/dist-packages (from scikit-learn->sklearn) (1.0.0)\n",
      "Requirement already satisfied: numpy>=1.11.0 in /usr/local/lib/python3.6/dist-packages (from scikit-learn->sklearn) (1.19.5)\n",
      "Requirement already satisfied: scipy>=0.17.0 in /usr/local/lib/python3.6/dist-packages (from scikit-learn->sklearn) (1.4.1)\n"
     ]
    }
   ],
   "source": [
    "!pip install transformers\n",
    "!pip install torch\n",
    "!pip install sklearn "
   ]
  },
  {
   "cell_type": "code",
   "execution_count": null,
   "metadata": {},
   "outputs": [],
   "source": [
    "!pip install transformers\n",
    "!pip install torch\n",
    "!pip install sklearn !pip install transformers\n",
    "!pip install torch\n",
    "!pip install sklearn "
   ]
  },
  {
   "cell_type": "markdown",
   "metadata": {},
   "source": [
    "#### Import des packages et GPU"
   ]
  },
  {
   "cell_type": "code",
   "execution_count": null,
   "metadata": {
    "colab": {
     "base_uri": "https://localhost:8080/"
    },
    "id": "SualLStnv1-u",
    "outputId": "54e40da0-88f7-43c3-8f77-4673d6322d92",
    "scrolled": true
   },
   "outputs": [
    {
     "name": "stdout",
     "output_type": "stream",
     "text": [
      "There are 1 GPU(s) available.\n",
      "Device name: Tesla K80\n"
     ]
    }
   ],
   "source": [
    "import pandas as pd\n",
    "import numpy as np\n",
    "import torch\n",
    "import torch.nn as nn\n",
    "from torch.utils.data import TensorDataset, DataLoader, RandomSampler, SequentialSampler\n",
    "import scipy as sc\n",
    "from transformers import BertModel, BertTokenizerFast, DistilBertForSequenceClassification, DistilBertTokenizerFast\n",
    "from transformers import AdamW, get_linear_schedule_with_warmup\n",
    "from sklearn.model_selection import ShuffleSplit\n",
    "\n",
    "if torch.cuda.is_available():       \n",
    "    device = torch.device(\"cuda\")\n",
    "    print(f'There are {torch.cuda.device_count()} GPU(s) available.')\n",
    "    print('Device name:', torch.cuda.get_device_name(0))"
   ]
  },
  {
   "cell_type": "code",
   "execution_count": null,
   "metadata": {},
   "outputs": [],
   "source": [
    "df = pd.read_csv(\"tweets_price_df.csv\") #set directory"
   ]
  },
  {
   "cell_type": "markdown",
   "metadata": {},
   "source": [
    "#### Séparation des données en \"train\" et en \"test\""
   ]
  },
  {
   "cell_type": "code",
   "execution_count": null,
   "metadata": {
    "colab": {
     "base_uri": "https://localhost:8080/",
     "height": 204
    },
    "id": "C-TXgFUzxaS3",
    "outputId": "a423205b-d670-4b6c-f098-0ae7382d24b2",
    "scrolled": false
   },
   "outputs": [
    {
     "data": {
      "text/html": [
       "<div>\n",
       "<style scoped>\n",
       "    .dataframe tbody tr th:only-of-type {\n",
       "        vertical-align: middle;\n",
       "    }\n",
       "\n",
       "    .dataframe tbody tr th {\n",
       "        vertical-align: top;\n",
       "    }\n",
       "\n",
       "    .dataframe thead th {\n",
       "        text-align: right;\n",
       "    }\n",
       "</style>\n",
       "<table border=\"1\" class=\"dataframe\">\n",
       "  <thead>\n",
       "    <tr style=\"text-align: right;\">\n",
       "      <th></th>\n",
       "      <th>0</th>\n",
       "      <th>1</th>\n",
       "    </tr>\n",
       "  </thead>\n",
       "  <tbody>\n",
       "    <tr>\n",
       "      <th>0</th>\n",
       "      <td>we re only email address signups away to have ...</td>\n",
       "      <td>2020-10-24 17:00:00</td>\n",
       "    </tr>\n",
       "    <tr>\n",
       "      <th>1</th>\n",
       "      <td>bitcoin trends will firmly establish a don t b...</td>\n",
       "      <td>2020-10-24 17:00:00</td>\n",
       "    </tr>\n",
       "    <tr>\n",
       "      <th>2</th>\n",
       "      <td>bitcoin is pumping you want to quit your borin...</td>\n",
       "      <td>2020-10-22 14:00:00</td>\n",
       "    </tr>\n",
       "    <tr>\n",
       "      <th>3</th>\n",
       "      <td>thank you for strengthening the world s belief...</td>\n",
       "      <td>2020-10-19 17:00:00</td>\n",
       "    </tr>\n",
       "    <tr>\n",
       "      <th>4</th>\n",
       "      <td>the next industrial revolution is being tokeni...</td>\n",
       "      <td>2020-10-19 15:00:00</td>\n",
       "    </tr>\n",
       "  </tbody>\n",
       "</table>\n",
       "</div>"
      ],
      "text/plain": [
       "                                                   0                    1\n",
       "0  we re only email address signups away to have ...  2020-10-24 17:00:00\n",
       "1  bitcoin trends will firmly establish a don t b...  2020-10-24 17:00:00\n",
       "2  bitcoin is pumping you want to quit your borin...  2020-10-22 14:00:00\n",
       "3  thank you for strengthening the world s belief...  2020-10-19 17:00:00\n",
       "4  the next industrial revolution is being tokeni...  2020-10-19 15:00:00"
      ]
     },
     "execution_count": 5,
     "metadata": {
      "tags": []
     },
     "output_type": "execute_result"
    }
   ],
   "source": [
    "# Split our subset into random train and test subsets\n",
    "\n",
    "import pandas as pd\n",
    "from sklearn.model_selection import train_test_split\n",
    "train_texts, val_texts, train_labels, val_labels = train_test_split(list(df.Text), list(df[\"Target\"]), train_size=.8, shuffle=False)\n",
    "\n",
    "test = pd.DataFrame(list(zip(val_texts,list(df.Date[round(len(df)*0.8):]))))\n",
    "test.head()"
   ]
  },
  {
   "cell_type": "markdown",
   "metadata": {},
   "source": [
    "**Remarque:** Le choix de ne pas shuffle est en adéquation avec notre hypothèse de la temporalité des Tweets. En effet, nous estimons que mélanger le dataset dans notre cas n'avait pas de sens. De plus, cela aurait créé des problèmes lors de la phase de backtest de la stratégie. (Par exemple : si nous avions shuffle, nous aurions certainement backtester des Tweets déjà appris par le modèle)."
   ]
  },
  {
   "cell_type": "code",
   "execution_count": null,
   "metadata": {
    "colab": {
     "base_uri": "https://localhost:8080/",
     "height": 204
    },
    "id": "HQR0hTCjIwP5",
    "outputId": "ae53a749-8519-4cde-f46a-c02c6df32006",
    "scrolled": true
   },
   "outputs": [
    {
     "data": {
      "text/html": [
       "<div>\n",
       "<style scoped>\n",
       "    .dataframe tbody tr th:only-of-type {\n",
       "        vertical-align: middle;\n",
       "    }\n",
       "\n",
       "    .dataframe tbody tr th {\n",
       "        vertical-align: top;\n",
       "    }\n",
       "\n",
       "    .dataframe thead th {\n",
       "        text-align: right;\n",
       "    }\n",
       "</style>\n",
       "<table border=\"1\" class=\"dataframe\">\n",
       "  <thead>\n",
       "    <tr style=\"text-align: right;\">\n",
       "      <th></th>\n",
       "      <th>0</th>\n",
       "      <th>1</th>\n",
       "    </tr>\n",
       "  </thead>\n",
       "  <tbody>\n",
       "    <tr>\n",
       "      <th>2674</th>\n",
       "      <td>want to listen to a bunch of nerd girls and gu...</td>\n",
       "      <td>2020-11-02 13:00:00</td>\n",
       "    </tr>\n",
       "    <tr>\n",
       "      <th>2675</th>\n",
       "      <td>i put some bitcoin cards in my box of hallowee...</td>\n",
       "      <td>2020-11-01 06:00:00</td>\n",
       "    </tr>\n",
       "    <tr>\n",
       "      <th>2676</th>\n",
       "      <td>years ago satoshi nakamoto dropped a page bomb...</td>\n",
       "      <td>2020-10-31 17:00:00</td>\n",
       "    </tr>\n",
       "    <tr>\n",
       "      <th>2677</th>\n",
       "      <td>so crazy bitcoin will become a digital reserve...</td>\n",
       "      <td>2020-10-29 21:00:00</td>\n",
       "    </tr>\n",
       "    <tr>\n",
       "      <th>2678</th>\n",
       "      <td>microstrategy investment on bitcoin is alreay ...</td>\n",
       "      <td>2020-10-27 14:00:00</td>\n",
       "    </tr>\n",
       "  </tbody>\n",
       "</table>\n",
       "</div>"
      ],
      "text/plain": [
       "                                                      0                    1\n",
       "2674  want to listen to a bunch of nerd girls and gu...  2020-11-02 13:00:00\n",
       "2675  i put some bitcoin cards in my box of hallowee...  2020-11-01 06:00:00\n",
       "2676  years ago satoshi nakamoto dropped a page bomb...  2020-10-31 17:00:00\n",
       "2677  so crazy bitcoin will become a digital reserve...  2020-10-29 21:00:00\n",
       "2678  microstrategy investment on bitcoin is alreay ...  2020-10-27 14:00:00"
      ]
     },
     "execution_count": 6,
     "metadata": {
      "tags": []
     },
     "output_type": "execute_result"
    }
   ],
   "source": [
    "train= pd.DataFrame(list(zip(train_texts,list(df.Date))))\n",
    "train.tail()"
   ]
  },
  {
   "cell_type": "code",
   "execution_count": null,
   "metadata": {},
   "outputs": [],
   "source": [
    "train= pd.DataFrame(list(zip(train_texts,list(df.Date))))\n",
    "train.tail()"
   ]
  },
  {
   "cell_type": "markdown",
   "metadata": {},
   "source": [
    "#### Implémentation de BERT"
   ]
  },
  {
   "cell_type": "markdown",
   "metadata": {},
   "source": [
    "Nous allons préparer la base de données de manière pratique pour le `trainer`  et la `tokenizé`:\n",
    "\n",
    "Nous définissons nos labels dans un object dataset  en  utilisant `torch.utils.data.Dataset` et en implémentant `getitem` et `len`. De cette façon la donnée peut facilement être batchée. Ici, nous utilisons `DistilBert` qui est une version optimisée de `Bert` (avec moins de poids dans le réseau de neurones). De plus, `DistilBert` comme `Bert` contient une sémantique et une compréhension de la langue anglaise, grâce au pre-training effectué sur le modèle, à partir d'un corpus très volumineux de texte.\n",
    "Nous allons utiliser `DistilBert Tokenizer` avant d'entrainer le modèle avec `pre-trained DistilBert`. On passe notre test dans le `tokenizer` avec `truncation = true` et `padding = true`. Ceci assure que nos séquences aient la même longueur et sont tronquées pour ne pas être plus longues que la longueur maximale de notre modèle."
   ]
  },
  {
   "cell_type": "code",
   "execution_count": null,
   "metadata": {
    "colab": {
     "base_uri": "https://localhost:8080/",
     "height": 115,
     "referenced_widgets": [
      "38887aaba5284c12b649ce32c43ad056",
      "fe0ef4a933974853b4f22ba786758349",
      "572987cd514249a28edcf53110bff791",
      "6da99d608207487082d9e63ca09b0cd1",
      "9b31f2f2469141b08911b4d89d0a83b0",
      "d6ebe09d2f254c61be31171d6b98cd9e",
      "7806bcc0cef74ff2853d9c0d152e7f09",
      "d21123a650ee4af2bf75aed03936579b",
      "13bdb7a1877b47ccb570815814ff2d1e",
      "60f9d5e844d644a7be1d25ec045f7df2",
      "286b48b808af4035b08ae2921329fb2a",
      "71ace2c9b7eb48dbb53e68b8300e049a",
      "f402ab94110b46de8277a9fb85074d23",
      "4eb39e58d7e14da9b7b9a61d9d7af63a",
      "6b5a2a8051de46e2beff0da75983bffc",
      "42575f038f234ad9a16258007d93a0fb"
     ]
    },
    "id": "Jc1JnjhNv1-x",
    "outputId": "c03ec359-9b1d-49f0-b30a-3614adc799e5",
    "scrolled": true
   },
   "outputs": [
    {
     "data": {
      "application/vnd.jupyter.widget-view+json": {
       "model_id": "38887aaba5284c12b649ce32c43ad056",
       "version_major": 2,
       "version_minor": 0
      },
      "text/plain": [
       "HBox(children=(FloatProgress(value=0.0, description='Downloading', max=231508.0, style=ProgressStyle(descripti…"
      ]
     },
     "metadata": {
      "tags": []
     },
     "output_type": "display_data"
    },
    {
     "name": "stdout",
     "output_type": "stream",
     "text": [
      "\n"
     ]
    },
    {
     "data": {
      "application/vnd.jupyter.widget-view+json": {
       "model_id": "13bdb7a1877b47ccb570815814ff2d1e",
       "version_major": 2,
       "version_minor": 0
      },
      "text/plain": [
       "HBox(children=(FloatProgress(value=0.0, description='Downloading', max=466062.0, style=ProgressStyle(descripti…"
      ]
     },
     "metadata": {
      "tags": []
     },
     "output_type": "display_data"
    },
    {
     "name": "stdout",
     "output_type": "stream",
     "text": [
      "\n"
     ]
    }
   ],
   "source": [
    "class DS(torch.utils.data.Dataset):\n",
    "    def __init__(self, encodings, labels):\n",
    "        self.encodings = encodings\n",
    "        self.labels = labels\n",
    "\n",
    "    def __getitem__(self, idx):\n",
    "        item = {key: torch.tensor(val[idx]) for key, val in self.encodings.items()}\n",
    "        item['labels'] = torch.tensor(self.labels[idx])\n",
    "        return item\n",
    "\n",
    "    def __len__(self):\n",
    "        return len(self.labels)\n",
    "tokenizer = DistilBertTokenizerFast.from_pretrained('distilbert-base-uncased')\n",
    "train_encodings = tokenizer(train_texts, truncation=True, padding=True)\n",
    "val_encodings = tokenizer(val_texts, truncation=True, padding=True)\n",
    "train_dataset = DS(train_encodings, train_labels)\n",
    "val_dataset = DS(val_encodings, val_labels)"
   ]
  },
  {
   "cell_type": "markdown",
   "metadata": {},
   "source": [
    "Ici nous n'avons plus qu'à créer notre modèle à \"fine-tuner\", définir notre `TrainingArguments` et instancier notre `Trainer`."
   ]
  },
  {
   "cell_type": "code",
   "execution_count": null,
   "metadata": {
    "colab": {
     "base_uri": "https://localhost:8080/",
     "height": 605,
     "referenced_widgets": [
      "63d054e393c94a79a8a18f084ab8e349",
      "ff45898f0bed48fc839981daf9905035",
      "8ade948ff8b249bf981d050f3f6a0d21",
      "334529375b0b4e7e8695d3aac1561b64",
      "848f533cd9ab4c509d39a7c6804def47",
      "eee212e5408d44ad9eff9f7c45c08538",
      "c4d9e9e012da4a3bb831164a9034af72",
      "ce0a9937b4aa451bbc37a6d0f120efd1",
      "3439ba42258e439283e61c7d545b47ff",
      "5188fdfe423040af820cd78ef47cabaa",
      "1ca0166701e546c4943ae874b0db1fe2",
      "75197bea1504460a8df695ee177a020a",
      "52fcae7588de424c9c6d1799a60f1fc1",
      "692290dbdc884ce7b6223cafce3cc7e8",
      "5d9b27cbecf04c4d97921413b8738c9f",
      "85f003af79554717b167884d4c7dce62"
     ]
    },
    "id": "p3NA-Kbmz0fc",
    "outputId": "69c2be5d-ad3e-4317-b761-4aa09dc5be5b",
    "scrolled": true
   },
   "outputs": [
    {
     "data": {
      "application/vnd.jupyter.widget-view+json": {
       "model_id": "63d054e393c94a79a8a18f084ab8e349",
       "version_major": 2,
       "version_minor": 0
      },
      "text/plain": [
       "HBox(children=(FloatProgress(value=0.0, description='Downloading', max=442.0, style=ProgressStyle(description_…"
      ]
     },
     "metadata": {
      "tags": []
     },
     "output_type": "display_data"
    },
    {
     "name": "stdout",
     "output_type": "stream",
     "text": [
      "\n"
     ]
    },
    {
     "data": {
      "application/vnd.jupyter.widget-view+json": {
       "model_id": "3439ba42258e439283e61c7d545b47ff",
       "version_major": 2,
       "version_minor": 0
      },
      "text/plain": [
       "HBox(children=(FloatProgress(value=0.0, description='Downloading', max=267967963.0, style=ProgressStyle(descri…"
      ]
     },
     "metadata": {
      "tags": []
     },
     "output_type": "display_data"
    },
    {
     "name": "stdout",
     "output_type": "stream",
     "text": [
      "\n"
     ]
    },
    {
     "name": "stderr",
     "output_type": "stream",
     "text": [
      "Some weights of the model checkpoint at distilbert-base-uncased were not used when initializing DistilBertForSequenceClassification: ['vocab_transform.weight', 'vocab_transform.bias', 'vocab_layer_norm.weight', 'vocab_layer_norm.bias', 'vocab_projector.weight', 'vocab_projector.bias']\n",
      "- This IS expected if you are initializing DistilBertForSequenceClassification from the checkpoint of a model trained on another task or with another architecture (e.g. initializing a BertForSequenceClassification model from a BertForPreTraining model).\n",
      "- This IS NOT expected if you are initializing DistilBertForSequenceClassification from the checkpoint of a model that you expect to be exactly identical (initializing a BertForSequenceClassification model from a BertForSequenceClassification model).\n",
      "Some weights of DistilBertForSequenceClassification were not initialized from the model checkpoint at distilbert-base-uncased and are newly initialized: ['pre_classifier.weight', 'pre_classifier.bias', 'classifier.weight', 'classifier.bias']\n",
      "You should probably TRAIN this model on a down-stream task to be able to use it for predictions and inference.\n"
     ]
    },
    {
     "data": {
      "text/html": [
       "\n",
       "    <div>\n",
       "        <style>\n",
       "            /* Turns off some styling */\n",
       "            progress {\n",
       "                /* gets rid of default border in Firefox and Opera. */\n",
       "                border: none;\n",
       "                /* Needs to be in here for Safari polyfill so background images work as expected. */\n",
       "                background-size: auto;\n",
       "            }\n",
       "        </style>\n",
       "      \n",
       "      <progress value='1680' max='1680' style='width:300px; height:20px; vertical-align: middle;'></progress>\n",
       "      [1680/1680 04:57, Epoch 10/10]\n",
       "    </div>\n",
       "    <table border=\"1\" class=\"dataframe\">\n",
       "  <thead>\n",
       "    <tr style=\"text-align: left;\">\n",
       "      <th>Epoch</th>\n",
       "      <th>Training Loss</th>\n",
       "      <th>Validation Loss</th>\n",
       "      <th>Runtime</th>\n",
       "      <th>Samples Per Second</th>\n",
       "    </tr>\n",
       "  </thead>\n",
       "  <tbody>\n",
       "    <tr>\n",
       "      <td>1</td>\n",
       "      <td>1.551600</td>\n",
       "      <td>1.422059</td>\n",
       "      <td>1.470200</td>\n",
       "      <td>455.706000</td>\n",
       "    </tr>\n",
       "    <tr>\n",
       "      <td>2</td>\n",
       "      <td>3.398000</td>\n",
       "      <td>1.407920</td>\n",
       "      <td>1.458500</td>\n",
       "      <td>459.383000</td>\n",
       "    </tr>\n",
       "    <tr>\n",
       "      <td>3</td>\n",
       "      <td>0.780900</td>\n",
       "      <td>1.465223</td>\n",
       "      <td>1.460800</td>\n",
       "      <td>458.668000</td>\n",
       "    </tr>\n",
       "    <tr>\n",
       "      <td>4</td>\n",
       "      <td>0.782800</td>\n",
       "      <td>1.702835</td>\n",
       "      <td>1.462900</td>\n",
       "      <td>457.994000</td>\n",
       "    </tr>\n",
       "    <tr>\n",
       "      <td>5</td>\n",
       "      <td>0.389700</td>\n",
       "      <td>1.711355</td>\n",
       "      <td>1.450100</td>\n",
       "      <td>462.047000</td>\n",
       "    </tr>\n",
       "    <tr>\n",
       "      <td>6</td>\n",
       "      <td>0.174200</td>\n",
       "      <td>1.673108</td>\n",
       "      <td>1.467100</td>\n",
       "      <td>456.676000</td>\n",
       "    </tr>\n",
       "    <tr>\n",
       "      <td>7</td>\n",
       "      <td>0.403400</td>\n",
       "      <td>1.643242</td>\n",
       "      <td>1.464300</td>\n",
       "      <td>457.543000</td>\n",
       "    </tr>\n",
       "    <tr>\n",
       "      <td>8</td>\n",
       "      <td>0.298300</td>\n",
       "      <td>1.579392</td>\n",
       "      <td>1.473100</td>\n",
       "      <td>454.835000</td>\n",
       "    </tr>\n",
       "    <tr>\n",
       "      <td>9</td>\n",
       "      <td>0.242000</td>\n",
       "      <td>1.621821</td>\n",
       "      <td>1.471400</td>\n",
       "      <td>455.353000</td>\n",
       "    </tr>\n",
       "    <tr>\n",
       "      <td>10</td>\n",
       "      <td>0.094500</td>\n",
       "      <td>1.598756</td>\n",
       "      <td>1.463300</td>\n",
       "      <td>457.855000</td>\n",
       "    </tr>\n",
       "  </tbody>\n",
       "</table><p>"
      ],
      "text/plain": [
       "<IPython.core.display.HTML object>"
      ]
     },
     "metadata": {
      "tags": []
     },
     "output_type": "display_data"
    },
    {
     "data": {
      "text/plain": [
       "TrainOutput(global_step=1680, training_loss=0.6798344016784713, metrics={'train_runtime': 298.0987, 'train_samples_per_second': 5.636, 'total_flos': 452013437330280, 'epoch': 10.0})"
      ]
     },
     "execution_count": 8,
     "metadata": {
      "tags": []
     },
     "output_type": "execute_result"
    }
   ],
   "source": [
    "from transformers import DistilBertForSequenceClassification, Trainer, TrainingArguments\n",
    "\n",
    "training_args = TrainingArguments(\n",
    "    output_dir='./results',          # output directory\n",
    "    num_train_epochs=10,              # total number of training epochs\n",
    "    per_device_train_batch_size=16,  # batch size per device during training\n",
    "    per_device_eval_batch_size=64,   # batch size for evaluation\n",
    "    warmup_steps=500,                # number of warmup steps for learning rate scheduler\n",
    "    weight_decay=0.01,               # strength of weight decay\n",
    "    logging_dir='./logs',            # directory for storing logs\n",
    "    logging_steps=10,\n",
    "    evaluation_strategy= \"epoch\"\n",
    ")\n",
    "\n",
    "model = DistilBertForSequenceClassification.from_pretrained(\"distilbert-base-uncased\", num_labels=1)\n",
    "\n",
    "trainer = Trainer(\n",
    "    model=model,                         # the instantiated 🤗 Transformers model to be trained\n",
    "    args=training_args,                  # training arguments, defined above\n",
    "    train_dataset=train_dataset,         # training dataset\n",
    "    eval_dataset=val_dataset             # evaluation dataset\n",
    ")\n",
    "\n",
    "trainer.train()"
   ]
  },
  {
   "cell_type": "code",
   "execution_count": null,
   "metadata": {},
   "outputs": [],
   "source": [
    "test = [trainer.predict(DS(tokenizer([text], truncation=True, padding=True), [0])) for text in val_texts] "
   ]
  },
  {
   "cell_type": "markdown",
   "metadata": {},
   "source": [
    "### Résultats et interprétations :\n",
    "\n",
    "Les résultats du réseau de neurones ne sont pas satisfaisants. En effet, nous pouvons voir (à travers un Run sur Google Colaboratory) que notre modèle est dans un cas typique de sur-apprentissage des données. En effet, à chacune des 10 époques, on voit que la `Training Loss` diminue mais que notre `Validation Loss` ne diminue pas, voire augmente. Comme cette dernière est bien supérieure à la `Training Loss`, notre modèle est bel et bien en train de sur-apprendre. En revanche, le modèle semble pouvoir détecter le sentiment lié à un Tweet traitant du Bitcoin. On peut même voir une sorte de granularité dans l'intensité des messages. Malheuresement, il semblerait que les prédictions ne permettent pas de donner des signaux d'achat/vente pertinents. Ce problème est très certainement la conséquence de notre hypothèse de base cherchant à distiller les informations à travers une requête croisée utilisateurs clés et hashtags. Cette hypothèse induit une trop faible quantité de données pour permettre au réseau d'apprendre correctement. Nous allons tout de même procéder au backtest et nous discuterons des solutions à apporter en conclusion. \n",
    "\n",
    "Voici quelques exemples sur certains Tweets pour comprendre comment `DistilBert` entrainé sur les rendements fonctionne :"
   ]
  },
  {
   "cell_type": "code",
   "execution_count": 11,
   "metadata": {
    "colab": {
     "base_uri": "https://localhost:8080/",
     "height": 74
    },
    "id": "NhY89uMBsWmh",
    "outputId": "ba93cb88-f275-4fc4-de73-679daf076279"
   },
   "outputs": [
    {
     "data": {
      "text/html": [
       "\n",
       "    <div>\n",
       "        <style>\n",
       "            /* Turns off some styling */\n",
       "            progress {\n",
       "                /* gets rid of default border in Firefox and Opera. */\n",
       "                border: none;\n",
       "                /* Needs to be in here for Safari polyfill so background images work as expected. */\n",
       "                background-size: auto;\n",
       "            }\n",
       "        </style>\n",
       "      \n",
       "      <progress value='1' max='1' style='width:300px; height:20px; vertical-align: middle;'></progress>\n",
       "      [1/1 : < :]\n",
       "    </div>\n",
       "    "
      ],
      "text/plain": [
       "<IPython.core.display.HTML object>"
      ]
     },
     "metadata": {
      "tags": []
     },
     "output_type": "display_data"
    },
    {
     "data": {
      "text/plain": [
       "PredictionOutput(predictions=array([[0.5800951]], dtype=float32), label_ids=array([0]), metrics={'eval_loss': 0.3365103304386139, 'eval_runtime': 0.0153, 'eval_samples_per_second': 65.439})"
      ]
     },
     "execution_count": 11,
     "metadata": {
      "tags": []
     },
     "output_type": "execute_result"
    }
   ],
   "source": [
    "test_oneshot = DS(tokenizer([\"on bitcoin s th birthday satoshi nakamoto just became the th richest person in the world billion and counting\"], truncation=True, padding=True), [0])\n",
    "trainer.predict(test_oneshot)"
   ]
  },
  {
   "cell_type": "markdown",
   "metadata": {},
   "source": [
    "Ce Tweet est un exemple type de signal d'achat, et ceci paraît logique dans le sens où ce Tweet encense le Bitcoin."
   ]
  },
  {
   "cell_type": "code",
   "execution_count": 12,
   "metadata": {
    "colab": {
     "base_uri": "https://localhost:8080/",
     "height": 74
    },
    "id": "oXI4Dwc5e9vT",
    "outputId": "fca39474-a22f-41ed-ba41-16ceffbb5560"
   },
   "outputs": [
    {
     "data": {
      "text/html": [
       "\n",
       "    <div>\n",
       "        <style>\n",
       "            /* Turns off some styling */\n",
       "            progress {\n",
       "                /* gets rid of default border in Firefox and Opera. */\n",
       "                border: none;\n",
       "                /* Needs to be in here for Safari polyfill so background images work as expected. */\n",
       "                background-size: auto;\n",
       "            }\n",
       "        </style>\n",
       "      \n",
       "      <progress value='2' max='1' style='width:300px; height:20px; vertical-align: middle;'></progress>\n",
       "      [1/1 01:07]\n",
       "    </div>\n",
       "    "
      ],
      "text/plain": [
       "<IPython.core.display.HTML object>"
      ]
     },
     "metadata": {
      "tags": []
     },
     "output_type": "display_data"
    },
    {
     "data": {
      "text/plain": [
       "PredictionOutput(predictions=array([[0.01747653]], dtype=float32), label_ids=array([0]), metrics={'eval_loss': 0.0003054289845749736, 'eval_runtime': 0.0196, 'eval_samples_per_second': 51.017})"
      ]
     },
     "execution_count": 12,
     "metadata": {
      "tags": []
     },
     "output_type": "execute_result"
    }
   ],
   "source": [
    "test_oneshot = DS(tokenizer([\"bitcoin aka crypto is direct activism against an unverifiable and exclusionary financial system which negative\"], truncation=True, padding=True), [0])\n",
    "trainer.predict(test_oneshot)"
   ]
  },
  {
   "cell_type": "markdown",
   "metadata": {},
   "source": [
    "Cet exemple est très intéressant car on voit que `DistilBert` reste très neutre et donc ne nous donne aucune indication quant à un signal particulier. C'est un exemple typique où nous restons neutres sur le marché, soit en liquidité/cash (USDT)."
   ]
  },
  {
   "cell_type": "code",
   "execution_count": 35,
   "metadata": {
    "colab": {
     "base_uri": "https://localhost:8080/",
     "height": 74
    },
    "id": "TP0yeAMNgRwc",
    "outputId": "cbcb3eca-5e58-44de-f57d-2f96a774fd58"
   },
   "outputs": [
    {
     "data": {
      "text/html": [
       "\n",
       "    <div>\n",
       "        <style>\n",
       "            /* Turns off some styling */\n",
       "            progress {\n",
       "                /* gets rid of default border in Firefox and Opera. */\n",
       "                border: none;\n",
       "                /* Needs to be in here for Safari polyfill so background images work as expected. */\n",
       "                background-size: auto;\n",
       "            }\n",
       "        </style>\n",
       "      \n",
       "      <progress value='680' max='1' style='width:300px; height:20px; vertical-align: middle;'></progress>\n",
       "      [1/1 08:12]\n",
       "    </div>\n",
       "    "
      ],
      "text/plain": [
       "<IPython.core.display.HTML object>"
      ]
     },
     "metadata": {
      "tags": []
     },
     "output_type": "display_data"
    },
    {
     "data": {
      "text/plain": [
       "PredictionOutput(predictions=array([[-0.0162848]], dtype=float32), label_ids=array([0]), metrics={'eval_loss': 0.00026519468519836664, 'eval_runtime': 0.0145, 'eval_samples_per_second': 68.79})"
      ]
     },
     "execution_count": 35,
     "metadata": {
      "tags": []
     },
     "output_type": "execute_result"
    }
   ],
   "source": [
    "test_oneshot = DS(tokenizer([\"I am still bearish on bitcoin\"], truncation=True, padding=True), [0])\n",
    "trainer.predict(test_oneshot)"
   ]
  },
  {
   "cell_type": "markdown",
   "metadata": {},
   "source": [
    "Ici, l'information n'est pas assez conséquente pour pouvoir prendre une quelconque décision. Un trop court message n'est pas suffisant pour prendre une décision."
   ]
  },
  {
   "cell_type": "code",
   "execution_count": 39,
   "metadata": {
    "colab": {
     "base_uri": "https://localhost:8080/",
     "height": 74
    },
    "id": "oCZe6Wg9kX2A",
    "outputId": "83c92159-02a2-46b7-abe2-543e8419ceb9"
   },
   "outputs": [
    {
     "data": {
      "text/html": [
       "\n",
       "    <div>\n",
       "        <style>\n",
       "            /* Turns off some styling */\n",
       "            progress {\n",
       "                /* gets rid of default border in Firefox and Opera. */\n",
       "                border: none;\n",
       "                /* Needs to be in here for Safari polyfill so background images work as expected. */\n",
       "                background-size: auto;\n",
       "            }\n",
       "        </style>\n",
       "      \n",
       "      <progress value='684' max='1' style='width:300px; height:20px; vertical-align: middle;'></progress>\n",
       "      [1/1 26:53]\n",
       "    </div>\n",
       "    "
      ],
      "text/plain": [
       "<IPython.core.display.HTML object>"
      ]
     },
     "metadata": {
      "tags": []
     },
     "output_type": "display_data"
    },
    {
     "data": {
      "text/plain": [
       "PredictionOutput(predictions=array([[-0.13995264]], dtype=float32), label_ids=array([0]), metrics={'eval_loss': 0.01958674192428589, 'eval_runtime': 0.0149, 'eval_samples_per_second': 67.073})"
      ]
     },
     "execution_count": 39,
     "metadata": {
      "tags": []
     },
     "output_type": "execute_result"
    }
   ],
   "source": [
    "test_oneshot = DS(tokenizer([\"i ve never before wished for bitcoin to crash but i hope we do so everyone can fill their bags last time for the\"], truncation=True, padding=True), [0])\n",
    "trainer.predict(test_oneshot)"
   ]
  },
  {
   "cell_type": "markdown",
   "metadata": {},
   "source": [
    "Typiquement, nous pourrions nous mettre SHORT suite à ce Tweet mais il n'a pas assez d'intensité."
   ]
  },
  {
   "cell_type": "code",
   "execution_count": 37,
   "metadata": {
    "colab": {
     "base_uri": "https://localhost:8080/",
     "height": 74
    },
    "id": "svL-uepLhNeA",
    "outputId": "843d22af-b37c-4077-824c-a98bb95e998c"
   },
   "outputs": [
    {
     "data": {
      "text/html": [
       "\n",
       "    <div>\n",
       "        <style>\n",
       "            /* Turns off some styling */\n",
       "            progress {\n",
       "                /* gets rid of default border in Firefox and Opera. */\n",
       "                border: none;\n",
       "                /* Needs to be in here for Safari polyfill so background images work as expected. */\n",
       "                background-size: auto;\n",
       "            }\n",
       "        </style>\n",
       "      \n",
       "      <progress value='682' max='1' style='width:300px; height:20px; vertical-align: middle;'></progress>\n",
       "      [1/1 11:46]\n",
       "    </div>\n",
       "    "
      ],
      "text/plain": [
       "<IPython.core.display.HTML object>"
      ]
     },
     "metadata": {
      "tags": []
     },
     "output_type": "display_data"
    },
    {
     "data": {
      "text/plain": [
       "PredictionOutput(predictions=array([[0.79102635]], dtype=float32), label_ids=array([0]), metrics={'eval_loss': 0.6257227063179016, 'eval_runtime': 0.0151, 'eval_samples_per_second': 66.373})"
      ]
     },
     "execution_count": 37,
     "metadata": {
      "tags": []
     },
     "output_type": "execute_result"
    }
   ],
   "source": [
    "test_oneshot = DS(tokenizer([\"tune in to binance blockchain week to hear from the top contender for bitcoin bull of the year\"], truncation=True, padding=True), [0])\n",
    "trainer.predict(test_oneshot)"
   ]
  },
  {
   "cell_type": "markdown",
   "metadata": {},
   "source": [
    "En revanche, ce Tweet est un exemple parfait de position LONG sur le Bitcoin."
   ]
  },
  {
   "cell_type": "markdown",
   "metadata": {},
   "source": [
    "En synthèse, ces exemples permettent de voir la granularité dont nous parlions précédement, mais certains messages sont interprétés comme positifs alors qu'ils ne devraient pas et inversement. De plus, lorsque le mot bitcoin n'apparait pas, l'algorithme retourne un sentiment totalement décorrélé du rendement, ce qui semble logique. Nous laissons l'utilisateur essayer d'autres exemples pour s'en appercevoir."
   ]
  },
  {
   "cell_type": "markdown",
   "metadata": {},
   "source": [
    "### Discussion et améliorations potentielles :\n",
    "\n",
    "Nous pourrions imaginer une autre manière de scorer les Tweets. Par exemple, nous pourrions nous servir du nombre de likes relatifs d'un compte pour ajuster le score. Nous pourrions aussi donner des poids spécifiques à chacun des comptes en étudiant leurs importances au niveau de leurs posts qui ont été \"re-Tweet\". En revanche, ces améliorations demandent un travail de recherche approfondi sur la donnée du réseau social.\n",
    "\n",
    "Pour une première approche, nous avons décidé d'aller droit au but et de conserver un modèle relativement simple et explicable, plutôt que de mélanger trop de données entre elles."
   ]
  },
  {
   "cell_type": "markdown",
   "metadata": {},
   "source": [
    "#### Récupération des signaux d'investissements"
   ]
  },
  {
   "cell_type": "code",
   "execution_count": null,
   "metadata": {},
   "outputs": [],
   "source": [
    "signal = [test[i][0][0][0] for i in range(len(val_texts))]"
   ]
  },
  {
   "cell_type": "markdown",
   "metadata": {},
   "source": [
    "#### Quelques statistiques"
   ]
  },
  {
   "cell_type": "code",
   "execution_count": 28,
   "metadata": {},
   "outputs": [],
   "source": [
    "def Statistiques(variable):\n",
    "    print(\"Statistiques :\")\n",
    "    return{\n",
    "            \"Mean\": pd.Series(variable).mean(),\n",
    "            \"Max\": max(variable),\n",
    "            \"Min\": min(variable),\n",
    "            \"Var\": np.var(variable),\n",
    "            \"Upper Bound\": np.percentile(variable,70),\n",
    "            \"Lower Bound\": np.percentile(variable,30)\n",
    "            }"
   ]
  },
  {
   "cell_type": "code",
   "execution_count": 30,
   "metadata": {},
   "outputs": [
    {
     "name": "stdout",
     "output_type": "stream",
     "text": [
      "Statistiques :\n"
     ]
    },
    {
     "data": {
      "text/plain": [
       "{'Mean': 0.06022692398123965,\n",
       " 'Max': 2.504241704940796,\n",
       " 'Min': -1.8835374116897583,\n",
       " 'Var': 0.1697464427221059,\n",
       " 'Upper Bound': 0.2611275792121887,\n",
       " 'Lower Bound': -0.12079136222600935}"
      ]
     },
     "execution_count": 30,
     "metadata": {},
     "output_type": "execute_result"
    }
   ],
   "source": [
    "Statistiques(signal)"
   ]
  },
  {
   "cell_type": "markdown",
   "metadata": {},
   "source": [
    "#### Convertion des signaux en Dataframe"
   ]
  },
  {
   "cell_type": "code",
   "execution_count": null,
   "metadata": {
    "colab": {
     "base_uri": "https://localhost:8080/",
     "height": 419
    },
    "id": "vPgJdIWiFhnl",
    "outputId": "59274aa9-4d21-4ca6-c31f-4d5ed493076f",
    "scrolled": false
   },
   "outputs": [
    {
     "data": {
      "text/html": [
       "<div>\n",
       "<style scoped>\n",
       "    .dataframe tbody tr th:only-of-type {\n",
       "        vertical-align: middle;\n",
       "    }\n",
       "\n",
       "    .dataframe tbody tr th {\n",
       "        vertical-align: top;\n",
       "    }\n",
       "\n",
       "    .dataframe thead th {\n",
       "        text-align: right;\n",
       "    }\n",
       "</style>\n",
       "<table border=\"1\" class=\"dataframe\">\n",
       "  <thead>\n",
       "    <tr style=\"text-align: right;\">\n",
       "      <th></th>\n",
       "      <th>predict</th>\n",
       "      <th>Date</th>\n",
       "    </tr>\n",
       "  </thead>\n",
       "  <tbody>\n",
       "    <tr>\n",
       "      <th>0</th>\n",
       "      <td>0.117567</td>\n",
       "      <td>2020-10-24 17:00:00</td>\n",
       "    </tr>\n",
       "    <tr>\n",
       "      <th>1</th>\n",
       "      <td>-0.368265</td>\n",
       "      <td>2020-10-24 17:00:00</td>\n",
       "    </tr>\n",
       "    <tr>\n",
       "      <th>2</th>\n",
       "      <td>0.493556</td>\n",
       "      <td>2020-10-22 14:00:00</td>\n",
       "    </tr>\n",
       "    <tr>\n",
       "      <th>3</th>\n",
       "      <td>0.632009</td>\n",
       "      <td>2020-10-19 17:00:00</td>\n",
       "    </tr>\n",
       "    <tr>\n",
       "      <th>4</th>\n",
       "      <td>-0.187218</td>\n",
       "      <td>2020-10-19 15:00:00</td>\n",
       "    </tr>\n",
       "    <tr>\n",
       "      <th>...</th>\n",
       "      <td>...</td>\n",
       "      <td>...</td>\n",
       "    </tr>\n",
       "    <tr>\n",
       "      <th>665</th>\n",
       "      <td>-0.184593</td>\n",
       "      <td>2020-02-21 03:00:00</td>\n",
       "    </tr>\n",
       "    <tr>\n",
       "      <th>666</th>\n",
       "      <td>-0.040151</td>\n",
       "      <td>2020-02-02 06:00:00</td>\n",
       "    </tr>\n",
       "    <tr>\n",
       "      <th>667</th>\n",
       "      <td>-0.252227</td>\n",
       "      <td>2019-08-09 19:00:00</td>\n",
       "    </tr>\n",
       "    <tr>\n",
       "      <th>668</th>\n",
       "      <td>0.596832</td>\n",
       "      <td>2019-02-06 07:00:00</td>\n",
       "    </tr>\n",
       "    <tr>\n",
       "      <th>669</th>\n",
       "      <td>-0.003898</td>\n",
       "      <td>2019-02-06 00:00:00</td>\n",
       "    </tr>\n",
       "  </tbody>\n",
       "</table>\n",
       "<p>670 rows × 2 columns</p>\n",
       "</div>"
      ],
      "text/plain": [
       "      predict                 Date\n",
       "0    0.117567  2020-10-24 17:00:00\n",
       "1   -0.368265  2020-10-24 17:00:00\n",
       "2    0.493556  2020-10-22 14:00:00\n",
       "3    0.632009  2020-10-19 17:00:00\n",
       "4   -0.187218  2020-10-19 15:00:00\n",
       "..        ...                  ...\n",
       "665 -0.184593  2020-02-21 03:00:00\n",
       "666 -0.040151  2020-02-02 06:00:00\n",
       "667 -0.252227  2019-08-09 19:00:00\n",
       "668  0.596832  2019-02-06 07:00:00\n",
       "669 -0.003898  2019-02-06 00:00:00\n",
       "\n",
       "[670 rows x 2 columns]"
      ]
     },
     "execution_count": 23,
     "metadata": {
      "tags": []
     },
     "output_type": "execute_result"
    }
   ],
   "source": [
    "signal_df = pd.DataFrame(list(zip(signal,list(df.Date[round(len(df)*0.8):]))), columns=['predict','Date'])\n",
    "signal_df"
   ]
  },
  {
   "cell_type": "code",
   "execution_count": null,
   "metadata": {},
   "outputs": [],
   "source": [
    "signal_df.to_csv('Signal_dataframe.csv')"
   ]
  },
  {
   "cell_type": "code",
   "execution_count": null,
   "metadata": {
    "id": "Xh1OjSb4PR-0"
   },
   "outputs": [],
   "source": [
    "train_labels_df=pd.DataFrame(train_labels,columns=['Target'])"
   ]
  },
  {
   "cell_type": "code",
   "execution_count": null,
   "metadata": {
    "id": "A_NFTgvCxCiP"
   },
   "outputs": [],
   "source": [
    "train_labels_df.to_csv('Train_labels_dataframe.csv')"
   ]
  },
  {
   "cell_type": "markdown",
   "metadata": {},
   "source": [
    "## 5) Backtest"
   ]
  },
  {
   "cell_type": "markdown",
   "metadata": {},
   "source": [
    "### Description de la stratégie de Trading\n",
    "\n",
    "La stratégie de trading est simple et conservatrice. Son objectif est de prendre des positions fortes sur le marché grâce à des signaux très intenses. Nous entendons par intenses des signaux d'achat (Long) qui sont supérieurs à un quantile à 70% sur la base de l'échantillon observé et entrainé (le train donc). Concernant les signaux de vente à découvert (Short), on cherche donc des signaux en dessous du quantile à 30%. Ainsi, lorsque le signal n'est pas assez fort, nous préférons rester en cash (USDT). L'idée est de laisser la position ouverte durant une heure (toujours d'après notre hypothèse précisée précédemment) et de couper la position (Take-profit). Le raisonnement de cette stratégie se base donc sur l'hypothèse que les Tweets impactants sont intégrés dans le prix sous une heure. Précisons une fois de plus que nous ne cherchons pas à estimer un rendement mais bel et bien un sens du marché. Le backtest qui est réalisé ici sera sur une période d'environ un mois."
   ]
  },
  {
   "cell_type": "code",
   "execution_count": 5,
   "metadata": {},
   "outputs": [],
   "source": [
    "data = pd.read_csv(\"price_df.csv\")\n",
    "prediction = pd.read_csv(\"Signal_dataframe.csv\")\n",
    "observations = pd.read_csv(\"Train_labels_dataframe.csv\")"
   ]
  },
  {
   "cell_type": "code",
   "execution_count": 6,
   "metadata": {},
   "outputs": [],
   "source": [
    "# Addition des predictions par heure, pour le cas de plusieurs predictions durant la même heure\n",
    "prediction = prediction.groupby('Date')['predict'].apply(lambda x: sum(x))"
   ]
  },
  {
   "cell_type": "markdown",
   "metadata": {},
   "source": [
    "#### Remarque : \n",
    "Nous avons décidé de sommer les signaux (et non pas de les moyenner) pour garder une notion d'intensité du signal. Prenons un exemple pour illustrer cette idée. Si plusieurs utilisateurs publient des Tweets dans la même heure sur le sujet, cela signifie que l'information est importante."
   ]
  },
  {
   "cell_type": "code",
   "execution_count": 7,
   "metadata": {},
   "outputs": [],
   "source": [
    "# on transforme prediction en dataframe\n",
    "prediction = pd.DataFrame(prediction, columns= ['predict'])\n",
    "prediction.reset_index(inplace=True)"
   ]
  },
  {
   "cell_type": "code",
   "execution_count": 8,
   "metadata": {},
   "outputs": [
    {
     "data": {
      "text/html": [
       "<div>\n",
       "<style scoped>\n",
       "    .dataframe tbody tr th:only-of-type {\n",
       "        vertical-align: middle;\n",
       "    }\n",
       "\n",
       "    .dataframe tbody tr th {\n",
       "        vertical-align: top;\n",
       "    }\n",
       "\n",
       "    .dataframe thead th {\n",
       "        text-align: right;\n",
       "    }\n",
       "</style>\n",
       "<table border=\"1\" class=\"dataframe\">\n",
       "  <thead>\n",
       "    <tr style=\"text-align: right;\">\n",
       "      <th></th>\n",
       "      <th>Date</th>\n",
       "      <th>predict</th>\n",
       "    </tr>\n",
       "  </thead>\n",
       "  <tbody>\n",
       "    <tr>\n",
       "      <th>0</th>\n",
       "      <td>2020-12-30 19:00:00</td>\n",
       "      <td>0.796467</td>\n",
       "    </tr>\n",
       "    <tr>\n",
       "      <th>1</th>\n",
       "      <td>2020-12-30 21:00:00</td>\n",
       "      <td>1.771327</td>\n",
       "    </tr>\n",
       "    <tr>\n",
       "      <th>2</th>\n",
       "      <td>2020-12-30 22:00:00</td>\n",
       "      <td>0.087391</td>\n",
       "    </tr>\n",
       "    <tr>\n",
       "      <th>3</th>\n",
       "      <td>2020-12-30 23:00:00</td>\n",
       "      <td>1.406058</td>\n",
       "    </tr>\n",
       "    <tr>\n",
       "      <th>4</th>\n",
       "      <td>2020-12-31 00:00:00</td>\n",
       "      <td>0.834686</td>\n",
       "    </tr>\n",
       "  </tbody>\n",
       "</table>\n",
       "</div>"
      ],
      "text/plain": [
       "                  Date   predict\n",
       "0  2020-12-30 19:00:00  0.796467\n",
       "1  2020-12-30 21:00:00  1.771327\n",
       "2  2020-12-30 22:00:00  0.087391\n",
       "3  2020-12-30 23:00:00  1.406058\n",
       "4  2020-12-31 00:00:00  0.834686"
      ]
     },
     "execution_count": 8,
     "metadata": {},
     "output_type": "execute_result"
    }
   ],
   "source": [
    "prediction.head()"
   ]
  },
  {
   "cell_type": "code",
   "execution_count": 9,
   "metadata": {},
   "outputs": [],
   "source": [
    "# on récupère uniquement les données des prix a partir de la première date de prédiction\n",
    "data = data[data['Date'] >= prediction['Date'][0]]"
   ]
  },
  {
   "cell_type": "code",
   "execution_count": 10,
   "metadata": {},
   "outputs": [
    {
     "data": {
      "text/html": [
       "<div>\n",
       "<style scoped>\n",
       "    .dataframe tbody tr th:only-of-type {\n",
       "        vertical-align: middle;\n",
       "    }\n",
       "\n",
       "    .dataframe tbody tr th {\n",
       "        vertical-align: top;\n",
       "    }\n",
       "\n",
       "    .dataframe thead th {\n",
       "        text-align: right;\n",
       "    }\n",
       "</style>\n",
       "<table border=\"1\" class=\"dataframe\">\n",
       "  <thead>\n",
       "    <tr style=\"text-align: right;\">\n",
       "      <th></th>\n",
       "      <th>Unnamed: 0</th>\n",
       "      <th>Unnamed: 0.1</th>\n",
       "      <th>Date</th>\n",
       "      <th>Open</th>\n",
       "      <th>High</th>\n",
       "      <th>Low</th>\n",
       "      <th>Close</th>\n",
       "      <th>Volume</th>\n",
       "      <th>Close_time</th>\n",
       "      <th>Asset_volume</th>\n",
       "      <th>Trade_number</th>\n",
       "      <th>Target</th>\n",
       "    </tr>\n",
       "  </thead>\n",
       "  <tbody>\n",
       "    <tr>\n",
       "      <th>29445</th>\n",
       "      <td>29445</td>\n",
       "      <td>0</td>\n",
       "      <td>2020-12-30 19:00:00</td>\n",
       "      <td>28239.68</td>\n",
       "      <td>28530.00</td>\n",
       "      <td>28239.68</td>\n",
       "      <td>28510.86</td>\n",
       "      <td>3992.536754</td>\n",
       "      <td>2020-12-30 19:59:59.999</td>\n",
       "      <td>1.133958e+08</td>\n",
       "      <td>73104</td>\n",
       "      <td>0.944010</td>\n",
       "    </tr>\n",
       "    <tr>\n",
       "      <th>29446</th>\n",
       "      <td>29446</td>\n",
       "      <td>0</td>\n",
       "      <td>2020-12-30 20:00:00</td>\n",
       "      <td>28510.86</td>\n",
       "      <td>28900.05</td>\n",
       "      <td>28444.00</td>\n",
       "      <td>28776.46</td>\n",
       "      <td>7242.879514</td>\n",
       "      <td>2020-12-30 20:59:59.999</td>\n",
       "      <td>2.081010e+08</td>\n",
       "      <td>119364</td>\n",
       "      <td>0.020602</td>\n",
       "    </tr>\n",
       "    <tr>\n",
       "      <th>29447</th>\n",
       "      <td>29447</td>\n",
       "      <td>0</td>\n",
       "      <td>2020-12-30 21:00:00</td>\n",
       "      <td>28776.45</td>\n",
       "      <td>28996.00</td>\n",
       "      <td>28603.24</td>\n",
       "      <td>28785.67</td>\n",
       "      <td>4271.327517</td>\n",
       "      <td>2020-12-30 21:59:59.999</td>\n",
       "      <td>1.230356e+08</td>\n",
       "      <td>81707</td>\n",
       "      <td>0.307049</td>\n",
       "    </tr>\n",
       "    <tr>\n",
       "      <th>29448</th>\n",
       "      <td>29448</td>\n",
       "      <td>0</td>\n",
       "      <td>2020-12-30 22:00:00</td>\n",
       "      <td>28785.67</td>\n",
       "      <td>28980.00</td>\n",
       "      <td>28534.70</td>\n",
       "      <td>28875.21</td>\n",
       "      <td>3551.040384</td>\n",
       "      <td>2020-12-30 22:59:59.999</td>\n",
       "      <td>1.022468e+08</td>\n",
       "      <td>77627</td>\n",
       "      <td>-0.621322</td>\n",
       "    </tr>\n",
       "    <tr>\n",
       "      <th>29449</th>\n",
       "      <td>29449</td>\n",
       "      <td>0</td>\n",
       "      <td>2020-12-30 23:00:00</td>\n",
       "      <td>28875.21</td>\n",
       "      <td>28903.93</td>\n",
       "      <td>28571.84</td>\n",
       "      <td>28703.88</td>\n",
       "      <td>1915.683224</td>\n",
       "      <td>2020-12-30 23:59:59.999</td>\n",
       "      <td>5.510670e+07</td>\n",
       "      <td>57210</td>\n",
       "      <td>0.601634</td>\n",
       "    </tr>\n",
       "  </tbody>\n",
       "</table>\n",
       "</div>"
      ],
      "text/plain": [
       "       Unnamed: 0  Unnamed: 0.1                 Date      Open      High  \\\n",
       "29445       29445             0  2020-12-30 19:00:00  28239.68  28530.00   \n",
       "29446       29446             0  2020-12-30 20:00:00  28510.86  28900.05   \n",
       "29447       29447             0  2020-12-30 21:00:00  28776.45  28996.00   \n",
       "29448       29448             0  2020-12-30 22:00:00  28785.67  28980.00   \n",
       "29449       29449             0  2020-12-30 23:00:00  28875.21  28903.93   \n",
       "\n",
       "            Low     Close       Volume               Close_time  Asset_volume  \\\n",
       "29445  28239.68  28510.86  3992.536754  2020-12-30 19:59:59.999  1.133958e+08   \n",
       "29446  28444.00  28776.46  7242.879514  2020-12-30 20:59:59.999  2.081010e+08   \n",
       "29447  28603.24  28785.67  4271.327517  2020-12-30 21:59:59.999  1.230356e+08   \n",
       "29448  28534.70  28875.21  3551.040384  2020-12-30 22:59:59.999  1.022468e+08   \n",
       "29449  28571.84  28703.88  1915.683224  2020-12-30 23:59:59.999  5.510670e+07   \n",
       "\n",
       "       Trade_number    Target  \n",
       "29445         73104  0.944010  \n",
       "29446        119364  0.020602  \n",
       "29447         81707  0.307049  \n",
       "29448         77627 -0.621322  \n",
       "29449         57210  0.601634  "
      ]
     },
     "execution_count": 10,
     "metadata": {},
     "output_type": "execute_result"
    }
   ],
   "source": [
    "data.head()"
   ]
  },
  {
   "cell_type": "code",
   "execution_count": 11,
   "metadata": {},
   "outputs": [
    {
     "data": {
      "text/plain": [
       "885"
      ]
     },
     "execution_count": 11,
     "metadata": {},
     "output_type": "execute_result"
    }
   ],
   "source": [
    "len(data)"
   ]
  },
  {
   "cell_type": "code",
   "execution_count": 12,
   "metadata": {},
   "outputs": [],
   "source": [
    "# on joint les prix et prédictions\n",
    "data2 = data.merge(prediction,how='left',on='Date')"
   ]
  },
  {
   "cell_type": "code",
   "execution_count": 13,
   "metadata": {},
   "outputs": [],
   "source": [
    "# on remplace les 'NaN' par des zeros, soit on reste en cash sur la stratégie\n",
    "data2['predict'] = data2['predict'].apply(lambda x: 0 if (str(x) == 'nan') else x)"
   ]
  },
  {
   "cell_type": "code",
   "execution_count": 23,
   "metadata": {},
   "outputs": [],
   "source": [
    "class BackTrader:\n",
    "    \n",
    "    def __init__(self,data,set_cash,quantile):\n",
    "        self.data = data\n",
    "        self.set_cash = set_cash\n",
    "        self.quantile = quantile\n",
    "        self.observations = observations\n",
    "        # Set et Initialiser le portefeuille\n",
    "        self.portfolio = []\n",
    "        self.portfolio.append(self.set_cash)\n",
    "        # Set parametres plot\n",
    "        self.settingP = { 'title'   : 'Portfolio',\n",
    "                         'xlabel'  : 'Date',\n",
    "                         'ylabel'  : 'Performance',\n",
    "                         'figsize' : (14,6),\n",
    "                         'size'    : '12'           }\n",
    "        self.settingB = { 'title'   : 'Bitcoin',\n",
    "                         'xlabel'  : 'Date',\n",
    "                         'ylabel'  : 'Performance',\n",
    "                         'figsize' : (14,6),\n",
    "                         'size'    : '12'           }\n",
    "\n",
    " \n",
    "\n",
    "    def strategy(self):\n",
    "        # Parcours les prédictions\n",
    "        for i in range(0,len(self.data)):\n",
    "            if self.data['predict'][i] >= np.percentile(self.observations['Target'],100-self.quantile):\n",
    "                gross_return = (self.data['Close'][i+1]/self.data['Close'][i]) - 1\n",
    "                # Nouvelle performance du portefeuille sur 1H\n",
    "                new_value_portfolio = self.portfolio[-1]*(1 + gross_return)\n",
    "                # Ajouter la nouvelle valeur a portfolio\n",
    "                self.portfolio.append(new_value_portfolio)\n",
    "\n",
    " \n",
    "\n",
    "            elif self.data['predict'][i] <= np.percentile(self.observations['Target'],self.quantile):\n",
    "                # Gross return sur 1H\n",
    "                gross_return = (self.data['Close'][i+1]/self.data['Close'][i]) - 1\n",
    "                # Nouvelle performance du portefeuille sur 1H\n",
    "                new_value_portfolio = self.portfolio[-1]*(1 - gross_return)\n",
    "                # Ajouter la nouvelle valeur a portfolio\n",
    "                self.portfolio.append(new_value_portfolio)\n",
    "        \n",
    "            else:\n",
    "                self.portfolio.append(self.portfolio[-1])\n",
    "        \n",
    "        return self.portfolio\n",
    "    \n",
    "    def plot_portfolio(self):\n",
    "        plt.subplot(211)\n",
    "        plt.title(self.settingP['title'])\n",
    "        plt.plot(self.portfolio)\n",
    "        plt.xlabel(self.settingP['xlabel'])\n",
    "        plt.ylabel(self.settingP['ylabel'])\n",
    "        plt.grid(True)\n",
    "        \n",
    "        \n",
    "        plt.subplot(212)\n",
    "        plt.title(self.settingB['title'])\n",
    "        weight = self.set_cash/self.data['Close'][0]\n",
    "        plt.plot([val*weight for val in self.data['Close']])\n",
    "        plt.xlabel(self.settingB['xlabel'])\n",
    "        plt.ylabel(self.settingB['ylabel'])\n",
    "        plt.grid(True)\n",
    "        \n",
    "        plt.rcParams['figure.figsize'] = self.settingB['figsize']\n",
    "        plt.rcParams[\"font.size\"]= self.settingB['size']\n",
    "        plt.subplots_adjust(top=0.92, bottom=0.08, left=0.10, right=0.95, hspace=0.5, wspace=0.35)\n",
    "        plt.show()"
   ]
  },
  {
   "cell_type": "code",
   "execution_count": 24,
   "metadata": {},
   "outputs": [],
   "source": [
    "# Instanciation de la class BackTrader(data,Cash initial,quantile)\n",
    "bt = BackTrader(data2,100000,30)"
   ]
  },
  {
   "cell_type": "code",
   "execution_count": 25,
   "metadata": {},
   "outputs": [],
   "source": [
    "# Run la strategy backtesté sur 1 mois\n",
    "portfolio = bt.strategy()"
   ]
  },
  {
   "cell_type": "code",
   "execution_count": 26,
   "metadata": {},
   "outputs": [
    {
     "data": {
      "image/png": "[encoded data removed]",
      "text/plain": [
       "<Figure size 1008x432 with 2 Axes>"
      ]
     },
     "metadata": {
      "needs_background": "light"
     },
     "output_type": "display_data"
    }
   ],
   "source": [
    "import matplotlib.pyplot as plt\n",
    "# Plot les resultats\n",
    "bt.plot_portfolio()"
   ]
  },
  {
   "cell_type": "markdown",
   "metadata": {},
   "source": [
    "#### Remarque :\n",
    "Ici, l'échelle de temps est la même, nous avons préféré laisser le nombre de prises de positions sur le marché pour notre portefeuille au cours du mois backtesté."
   ]
  },
  {
   "cell_type": "markdown",
   "metadata": {},
   "source": [
    "#### Statistiques de la stratégie"
   ]
  },
  {
   "cell_type": "code",
   "execution_count": 214,
   "metadata": {},
   "outputs": [],
   "source": [
    "class PortfolioStatistics:\n",
    "    \n",
    "    def __init__(self, portfolio):\n",
    "        self.portfolio = pd.Series(portfolio)\n",
    "\n",
    "    def returns(self):\n",
    "        returns= pd.Series(self.portfolio.shift(-1)/self.portfolio) - 1\n",
    "        return returns\n",
    "        \n",
    "    def mean_return(self):\n",
    "        mean_return = np.mean(self.returns())\n",
    "        return mean_return\n",
    "        \n",
    "    def period_return(self):\n",
    "        period_return = self.portfolio[len(self.portfolio)-1]/self.portfolio[0]-1\n",
    "        return period_return\n",
    "    \n",
    "    def volatility(self):\n",
    "        volatility = np.std(self.returns())* np.sqrt(len(self.portfolio))\n",
    "        return volatility\n",
    "    \n",
    "    def sharpe_ratio(self):\n",
    "        sharpe_ratio = self.period_return()/self.volatility()\n",
    "        return sharpe_ratio\n",
    "    \n",
    "    def summary_stats(self):\n",
    "        return {\n",
    "        \"Mean return\": self.mean_return(),\n",
    "        \"Period's return\": self.period_return(),\n",
    "        \"Volatility\": self.volatility(),\n",
    "        \"Sharpe Ratio\": self.sharpe_ratio()\n",
    "        }"
   ]
  },
  {
   "cell_type": "code",
   "execution_count": 215,
   "metadata": {},
   "outputs": [
    {
     "data": {
      "text/plain": [
       "{'Mean return': 0.002558161385490882,\n",
       " \"Period's return\": 0.6059073041270961,\n",
       " 'Volatility': 0.22479168006588598,\n",
       " 'Sharpe Ratio': 2.6954169475912364}"
      ]
     },
     "execution_count": 215,
     "metadata": {},
     "output_type": "execute_result"
    }
   ],
   "source": [
    "ps = PortfolioStatistics(portfolio)\n",
    "ps.summary_stats()"
   ]
  },
  {
   "cell_type": "code",
   "execution_count": 216,
   "metadata": {},
   "outputs": [
    {
     "data": {
      "text/plain": [
       "{'Mean return': 0.00041704078656975804,\n",
       " \"Period's return\": 0.33497165641443294,\n",
       " 'Volatility': 0.40015693487971066,\n",
       " 'Sharpe Ratio': 0.8371007152859345}"
      ]
     },
     "execution_count": 216,
     "metadata": {},
     "output_type": "execute_result"
    }
   ],
   "source": [
    "ps = PortfolioStatistics(data2['Close'])\n",
    "ps.summary_stats()"
   ]
  },
  {
   "cell_type": "markdown",
   "metadata": {},
   "source": [
    "### Résultats et interprétations :\n",
    "\n",
    "La stratégie backtestée donne un résultat bien meilleur qu'attendu. Le rendement sur la période est près de deux fois supérieur au benchmark qui est le cours du Bitcoin. De plus, la contribution au rendement par unité de risque est bien plus large que celle du Bitcoin. En effet, notre stratégie a une volatilité près de deux fois inférieure à celle du Bitcoin. C'est la raison pour laquelle notre ratio de Sharpe est de $2.70$ quand celui du Bitcoin est de $0.83$. Notre stratégie reste donc conservatrice et performante. Cette sur-performance réside dans le fait que nous soyons majoritairement cash durant la période de backtest et que nous conservons mieux nos profits réalisés. C'est pourquoi on peut voir apparaître des paliers sur la courbe de notre backtest. Typiquement, on peut voir qu'aucun signal d'achat ou de vente n'est ressorti ces derniers jours.\n"
   ]
  },
  {
   "cell_type": "markdown",
   "metadata": {},
   "source": [
    "## 5) Conclusion"
   ]
  },
  {
   "cell_type": "markdown",
   "metadata": {},
   "source": [
    "Dans ce devoir nous avons essayé de mettre en oeuvre et d'appliquer tous les concepts vus dans le cours. En commençant par l'extraction de données via des API nous avons pu développer nos compétences sur le sujet. Par la suite, nous avons nettoyé et pre-processé les données de manière à pouvoir les utiliser avec notre outil de Machine Learning `DistilBert`. Avant de commencer, nous avons parcouru les données pour comprendre ce que nous avions récupéré et avoir des axes de réflexion pour développer notre projet. Par la suite, nous nous sommes servis de `DistilBert` pour pouvoir faire un Sentiment Analysis des Tweets en fonction des rendements standardisés associés. Ceci nous a permis de récupérer nos signaux et de pouvoir réaliser notre stratégie de Trading. Le backtest a bien été réalisé sur des données non-entrainées que nous avons conservées pour le Test.\n",
    "\n",
    "Concernant les résultats, nous sommes surpris d'avoir une stratégie meilleure que le benchmark. En effet, rappelons que le réseau de neurones sur-apprend et que cela aurait pu induire de graves difficultés lors de la phase de backtest. Pour autant, cela n'a pas été le cas et la stratégie est performante. De plus, le cours du Bitcoin est sur une tendance haussière donc peut-être que cette performance est attribuée à un marché favorable. Ici, nous considérons cette performance dans un marché sans friction. Une critique majeure est que nous ne considérons pas les frais de transactions. Ces derniers sont trop variables d'une plateforme à l'autre mais également en fonction des montants. \n",
    "\n",
    "Pour finir, cette stratégie est prometteuse et pourrait se révéler efficace. Pour l'améliorer, il faudrait plus de données et peut-être réussir à créer un score qui prend en compte plus d'informations. Une autre amélioration possible serait d'optimiser la période de temps où l'information continue d'impacter le cours pour couper la position et take-profit à l'instant optimal. "
   ]
  }
 ],
 "metadata": {
  "kernelspec": {
   "display_name": "Python 3",
   "language": "python",
   "name": "python3"
  },
  "language_info": {
   "codemirror_mode": {
    "name": "ipython",
    "version": 3
   },
   "file_extension": ".py",
   "mimetype": "text/x-python",
   "name": "python",
   "nbconvert_exporter": "python",
   "pygments_lexer": "ipython3",
   "version": "3.7.3"
  }
 },
 "nbformat": 4,
 "nbformat_minor": 2
}
